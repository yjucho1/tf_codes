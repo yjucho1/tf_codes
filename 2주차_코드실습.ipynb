{
  "nbformat": 4,
  "nbformat_minor": 0,
  "metadata": {
    "colab": {
      "name": "2주차_코드실습.ipynb",
      "provenance": [],
      "collapsed_sections": [
        "T4IrR_YP82oL",
        "A7hrbrjXGAkt",
        "yJ1Ga3RJTeTw"
      ],
      "authorship_tag": "ABX9TyNlBFalId1/bR0rinty5uTz",
      "include_colab_link": true
    },
    "kernelspec": {
      "name": "python3",
      "display_name": "Python 3"
    }
  },
  "cells": [
    {
      "cell_type": "markdown",
      "metadata": {
        "id": "view-in-github",
        "colab_type": "text"
      },
      "source": [
        "<a href=\"https://colab.research.google.com/github/yjucho1/tf_codes/blob/master/2%EC%A3%BC%EC%B0%A8_%EC%BD%94%EB%93%9C%EC%8B%A4%EC%8A%B5.ipynb\" target=\"_parent\"><img src=\"https://colab.research.google.com/assets/colab-badge.svg\" alt=\"Open In Colab\"/></a>"
      ]
    },
    {
      "cell_type": "markdown",
      "metadata": {
        "id": "T4IrR_YP82oL",
        "colab_type": "text"
      },
      "source": [
        "#과대적합과 과소적합"
      ]
    },
    {
      "cell_type": "code",
      "metadata": {
        "id": "U4XUQs8j8vA-",
        "colab_type": "code",
        "outputId": "07046320-f02c-4fea-ae5e-568dfbfedca2",
        "colab": {
          "base_uri": "https://localhost:8080/",
          "height": 85
        }
      },
      "source": [
        "from __future__ import absolute_import, division, print_function, unicode_literals\n",
        "\n",
        "!pip install -q tf-nightly-2.0-preview\n",
        "import tensorflow as tf\n",
        "from tensorflow import keras\n",
        "\n",
        "import numpy as np\n",
        "import matplotlib.pyplot as plt\n",
        "\n",
        "print(tf.__version__)"
      ],
      "execution_count": 0,
      "outputs": [
        {
          "output_type": "stream",
          "text": [
            "\u001b[K     |████████████████████████████████| 95.2MB 51kB/s \n",
            "\u001b[K     |████████████████████████████████| 450kB 51.3MB/s \n",
            "\u001b[K     |████████████████████████████████| 3.8MB 32.6MB/s \n",
            "\u001b[?25h2.0.0-dev20191002\n"
          ],
          "name": "stdout"
        }
      ]
    },
    {
      "cell_type": "code",
      "metadata": {
        "id": "kc32A86j83qc",
        "colab_type": "code",
        "outputId": "8ca5d27a-bfe3-41ae-d463-8063a49744a2",
        "colab": {
          "base_uri": "https://localhost:8080/",
          "height": 71
        }
      },
      "source": [
        "NUM_WORDS = 10000\n",
        "\n",
        "(train_data, train_labels), (test_data, test_labels) = keras.datasets.imdb.load_data(num_words=NUM_WORDS)\n",
        "\n",
        "def multi_hot_sequence(sequences, dimension):\n",
        "  results = np.zeros((len(sequences), dimension))\n",
        "  for i, word_indices in enumerate(sequences):\n",
        "    results[i, word_indices] = 1.0 \n",
        "  return results\n",
        "\n",
        "train_data = multi_hot_sequence(train_data, dimension=NUM_WORDS)\n",
        "test_data = multi_hot_sequence(test_data, dimension=NUM_WORDS)\n"
      ],
      "execution_count": 0,
      "outputs": [
        {
          "output_type": "stream",
          "text": [
            "Downloading data from https://storage.googleapis.com/tensorflow/tf-keras-datasets/imdb.npz\n",
            "17465344/17464789 [==============================] - 0s 0us/step\n"
          ],
          "name": "stdout"
        }
      ]
    },
    {
      "cell_type": "code",
      "metadata": {
        "id": "hhsmw85L83t1",
        "colab_type": "code",
        "outputId": "926157d6-6598-4580-a10e-7125df77e2b5",
        "colab": {
          "base_uri": "https://localhost:8080/",
          "height": 282
        }
      },
      "source": [
        "plt.plot(train_data[0])"
      ],
      "execution_count": 0,
      "outputs": [
        {
          "output_type": "execute_result",
          "data": {
            "text/plain": [
              "[<matplotlib.lines.Line2D at 0x7f9d4368eef0>]"
            ]
          },
          "metadata": {
            "tags": []
          },
          "execution_count": 4
        },
        {
          "output_type": "display_data",
          "data": {
            "image/png": "[encoded data removed]",
            "text/plain": [
              "<Figure size 432x288 with 1 Axes>"
            ]
          },
          "metadata": {
            "tags": []
          }
        }
      ]
    },
    {
      "cell_type": "code",
      "metadata": {
        "id": "B49hGhRa83xI",
        "colab_type": "code",
        "outputId": "bb918a2c-5dd2-4c57-a8f0-ad542599270e",
        "colab": {
          "base_uri": "https://localhost:8080/",
          "height": 255
        }
      },
      "source": [
        "baseline_model = keras.Sequential([\n",
        "  keras.layers.Dense(16, activation='relu', input_shape=(NUM_WORDS,)),\n",
        "  keras.layers.Dense(16, activation='relu'),\n",
        "  keras.layers.Dense(1, activation='sigmoid')                          \n",
        "])\n",
        "\n",
        "baseline_model.compile(optimizer='adam', \n",
        "                       loss='binary_crossentropy',\n",
        "                       metrics=['accuracy', 'binary_crossentropy'])\n",
        "\n",
        "baseline_model.summary()"
      ],
      "execution_count": 0,
      "outputs": [
        {
          "output_type": "stream",
          "text": [
            "Model: \"sequential_4\"\n",
            "_________________________________________________________________\n",
            "Layer (type)                 Output Shape              Param #   \n",
            "=================================================================\n",
            "dense_12 (Dense)             (None, 16)                160016    \n",
            "_________________________________________________________________\n",
            "dense_13 (Dense)             (None, 16)                272       \n",
            "_________________________________________________________________\n",
            "dense_14 (Dense)             (None, 1)                 17        \n",
            "=================================================================\n",
            "Total params: 160,305\n",
            "Trainable params: 160,305\n",
            "Non-trainable params: 0\n",
            "_________________________________________________________________\n"
          ],
          "name": "stdout"
        }
      ]
    },
    {
      "cell_type": "code",
      "metadata": {
        "id": "NtIokNQd830J",
        "colab_type": "code",
        "outputId": "1a943c79-5945-467e-f5fa-2048400575c9",
        "colab": {
          "base_uri": "https://localhost:8080/",
          "height": 734
        }
      },
      "source": [
        "baseline_history = baseline_model.fit(train_data, train_labels, epochs=20, batch_size=512, validation_data=(test_data, test_labels), verbose=2)"
      ],
      "execution_count": 0,
      "outputs": [
        {
          "output_type": "stream",
          "text": [
            "Train on 25000 samples, validate on 25000 samples\n",
            "Epoch 1/20\n",
            "25000/25000 - 4s - loss: 0.5096 - accuracy: 0.8000 - binary_crossentropy: 0.5096 - val_loss: 0.3501 - val_accuracy: 0.8688 - val_binary_crossentropy: 0.3501\n",
            "Epoch 2/20\n",
            "25000/25000 - 3s - loss: 0.2555 - accuracy: 0.9080 - binary_crossentropy: 0.2555 - val_loss: 0.2847 - val_accuracy: 0.8861 - val_binary_crossentropy: 0.2847\n",
            "Epoch 3/20\n",
            "25000/25000 - 3s - loss: 0.1842 - accuracy: 0.9348 - binary_crossentropy: 0.1842 - val_loss: 0.2898 - val_accuracy: 0.8846 - val_binary_crossentropy: 0.2898\n",
            "Epoch 4/20\n",
            "25000/25000 - 3s - loss: 0.1470 - accuracy: 0.9500 - binary_crossentropy: 0.1470 - val_loss: 0.3134 - val_accuracy: 0.8790 - val_binary_crossentropy: 0.3134\n",
            "Epoch 5/20\n",
            "25000/25000 - 3s - loss: 0.1220 - accuracy: 0.9595 - binary_crossentropy: 0.1220 - val_loss: 0.3343 - val_accuracy: 0.8755 - val_binary_crossentropy: 0.3343\n",
            "Epoch 6/20\n",
            "25000/25000 - 3s - loss: 0.1006 - accuracy: 0.9684 - binary_crossentropy: 0.1006 - val_loss: 0.3655 - val_accuracy: 0.8708 - val_binary_crossentropy: 0.3655\n",
            "Epoch 7/20\n",
            "25000/25000 - 3s - loss: 0.0839 - accuracy: 0.9748 - binary_crossentropy: 0.0839 - val_loss: 0.4047 - val_accuracy: 0.8668 - val_binary_crossentropy: 0.4047\n",
            "Epoch 8/20\n",
            "25000/25000 - 3s - loss: 0.0708 - accuracy: 0.9794 - binary_crossentropy: 0.0708 - val_loss: 0.4404 - val_accuracy: 0.8644 - val_binary_crossentropy: 0.4404\n",
            "Epoch 9/20\n",
            "25000/25000 - 3s - loss: 0.0573 - accuracy: 0.9866 - binary_crossentropy: 0.0573 - val_loss: 0.4851 - val_accuracy: 0.8609 - val_binary_crossentropy: 0.4851\n",
            "Epoch 10/20\n",
            "25000/25000 - 3s - loss: 0.0475 - accuracy: 0.9900 - binary_crossentropy: 0.0475 - val_loss: 0.5264 - val_accuracy: 0.8584 - val_binary_crossentropy: 0.5264\n",
            "Epoch 11/20\n",
            "25000/25000 - 3s - loss: 0.0393 - accuracy: 0.9922 - binary_crossentropy: 0.0393 - val_loss: 0.5749 - val_accuracy: 0.8563 - val_binary_crossentropy: 0.5749\n",
            "Epoch 12/20\n",
            "25000/25000 - 3s - loss: 0.0318 - accuracy: 0.9944 - binary_crossentropy: 0.0318 - val_loss: 0.6191 - val_accuracy: 0.8552 - val_binary_crossentropy: 0.6191\n",
            "Epoch 13/20\n",
            "25000/25000 - 3s - loss: 0.0250 - accuracy: 0.9964 - binary_crossentropy: 0.0250 - val_loss: 0.6653 - val_accuracy: 0.8538 - val_binary_crossentropy: 0.6653\n",
            "Epoch 14/20\n",
            "25000/25000 - 3s - loss: 0.0200 - accuracy: 0.9974 - binary_crossentropy: 0.0200 - val_loss: 0.7235 - val_accuracy: 0.8505 - val_binary_crossentropy: 0.7235\n",
            "Epoch 15/20\n",
            "25000/25000 - 3s - loss: 0.0165 - accuracy: 0.9982 - binary_crossentropy: 0.0165 - val_loss: 0.7643 - val_accuracy: 0.8507 - val_binary_crossentropy: 0.7643\n",
            "Epoch 16/20\n",
            "25000/25000 - 3s - loss: 0.0130 - accuracy: 0.9992 - binary_crossentropy: 0.0130 - val_loss: 0.8031 - val_accuracy: 0.8497 - val_binary_crossentropy: 0.8031\n",
            "Epoch 17/20\n",
            "25000/25000 - 3s - loss: 0.0102 - accuracy: 0.9996 - binary_crossentropy: 0.0102 - val_loss: 0.8463 - val_accuracy: 0.8491 - val_binary_crossentropy: 0.8463\n",
            "Epoch 18/20\n",
            "25000/25000 - 3s - loss: 0.0079 - accuracy: 0.9998 - binary_crossentropy: 0.0079 - val_loss: 0.8862 - val_accuracy: 0.8485 - val_binary_crossentropy: 0.8862\n",
            "Epoch 19/20\n",
            "25000/25000 - 3s - loss: 0.0063 - accuracy: 0.9998 - binary_crossentropy: 0.0063 - val_loss: 0.9203 - val_accuracy: 0.8495 - val_binary_crossentropy: 0.9203\n",
            "Epoch 20/20\n",
            "25000/25000 - 3s - loss: 0.0051 - accuracy: 1.0000 - binary_crossentropy: 0.0051 - val_loss: 0.9547 - val_accuracy: 0.8495 - val_binary_crossentropy: 0.9547\n"
          ],
          "name": "stdout"
        }
      ]
    },
    {
      "cell_type": "code",
      "metadata": {
        "id": "KYMwlpfBArvo",
        "colab_type": "code",
        "outputId": "b0fce87b-7bd2-48ee-e11e-e8fa6a10a82b",
        "colab": {
          "base_uri": "https://localhost:8080/",
          "height": 255
        }
      },
      "source": [
        "smaller_model = keras.Sequential([\n",
        "  keras.layers.Dense(4, activation='relu', input_shape=(NUM_WORDS,)),\n",
        "  keras.layers.Dense(4, activation='relu'),\n",
        "  keras.layers.Dense(1, activation='sigmoid')                          \n",
        "])\n",
        "\n",
        "smaller_model.compile(optimizer='adam', \n",
        "                       loss='binary_crossentropy',\n",
        "                       metrics=['accuracy', 'binary_crossentropy'])\n",
        "\n",
        "smaller_model.summary()"
      ],
      "execution_count": 0,
      "outputs": [
        {
          "output_type": "stream",
          "text": [
            "Model: \"sequential_2\"\n",
            "_________________________________________________________________\n",
            "Layer (type)                 Output Shape              Param #   \n",
            "=================================================================\n",
            "dense_6 (Dense)              (None, 4)                 40004     \n",
            "_________________________________________________________________\n",
            "dense_7 (Dense)              (None, 4)                 20        \n",
            "_________________________________________________________________\n",
            "dense_8 (Dense)              (None, 1)                 5         \n",
            "=================================================================\n",
            "Total params: 40,029\n",
            "Trainable params: 40,029\n",
            "Non-trainable params: 0\n",
            "_________________________________________________________________\n"
          ],
          "name": "stdout"
        }
      ]
    },
    {
      "cell_type": "code",
      "metadata": {
        "id": "Q_UFSvzKArzN",
        "colab_type": "code",
        "outputId": "d078798f-d86e-42fd-8733-1e147b95ab56",
        "colab": {
          "base_uri": "https://localhost:8080/",
          "height": 734
        }
      },
      "source": [
        "smaller_history = smaller_model.fit(train_data,\n",
        "                                    train_labels,\n",
        "                                    epochs=20,\n",
        "                                    batch_size=512,\n",
        "                                    validation_data=(test_data, test_labels),\n",
        "                                    verbose=2)"
      ],
      "execution_count": 0,
      "outputs": [
        {
          "output_type": "stream",
          "text": [
            "Train on 25000 samples, validate on 25000 samples\n",
            "Epoch 1/20\n",
            "25000/25000 - 3s - loss: 0.5923 - accuracy: 0.7744 - binary_crossentropy: 0.5923 - val_loss: 0.4945 - val_accuracy: 0.8484 - val_binary_crossentropy: 0.4945\n",
            "Epoch 2/20\n",
            "25000/25000 - 3s - loss: 0.3986 - accuracy: 0.8830 - binary_crossentropy: 0.3986 - val_loss: 0.3707 - val_accuracy: 0.8747 - val_binary_crossentropy: 0.3707\n",
            "Epoch 3/20\n",
            "25000/25000 - 3s - loss: 0.2937 - accuracy: 0.9076 - binary_crossentropy: 0.2937 - val_loss: 0.3154 - val_accuracy: 0.8830 - val_binary_crossentropy: 0.3154\n",
            "Epoch 4/20\n",
            "25000/25000 - 3s - loss: 0.2382 - accuracy: 0.9225 - binary_crossentropy: 0.2382 - val_loss: 0.2932 - val_accuracy: 0.8874 - val_binary_crossentropy: 0.2932\n",
            "Epoch 5/20\n",
            "25000/25000 - 3s - loss: 0.2032 - accuracy: 0.9329 - binary_crossentropy: 0.2032 - val_loss: 0.2871 - val_accuracy: 0.8864 - val_binary_crossentropy: 0.2871\n",
            "Epoch 6/20\n",
            "25000/25000 - 3s - loss: 0.1795 - accuracy: 0.9405 - binary_crossentropy: 0.1795 - val_loss: 0.2885 - val_accuracy: 0.8845 - val_binary_crossentropy: 0.2885\n",
            "Epoch 7/20\n",
            "25000/25000 - 3s - loss: 0.1596 - accuracy: 0.9477 - binary_crossentropy: 0.1596 - val_loss: 0.2885 - val_accuracy: 0.8863 - val_binary_crossentropy: 0.2885\n",
            "Epoch 8/20\n",
            "25000/25000 - 3s - loss: 0.1438 - accuracy: 0.9540 - binary_crossentropy: 0.1438 - val_loss: 0.2956 - val_accuracy: 0.8840 - val_binary_crossentropy: 0.2956\n",
            "Epoch 9/20\n",
            "25000/25000 - 3s - loss: 0.1315 - accuracy: 0.9582 - binary_crossentropy: 0.1315 - val_loss: 0.3048 - val_accuracy: 0.8818 - val_binary_crossentropy: 0.3048\n",
            "Epoch 10/20\n",
            "25000/25000 - 3s - loss: 0.1212 - accuracy: 0.9621 - binary_crossentropy: 0.1212 - val_loss: 0.3162 - val_accuracy: 0.8790 - val_binary_crossentropy: 0.3162\n",
            "Epoch 11/20\n",
            "25000/25000 - 3s - loss: 0.1096 - accuracy: 0.9670 - binary_crossentropy: 0.1096 - val_loss: 0.3282 - val_accuracy: 0.8764 - val_binary_crossentropy: 0.3282\n",
            "Epoch 12/20\n",
            "25000/25000 - 3s - loss: 0.1011 - accuracy: 0.9703 - binary_crossentropy: 0.1011 - val_loss: 0.3462 - val_accuracy: 0.8736 - val_binary_crossentropy: 0.3462\n",
            "Epoch 13/20\n",
            "25000/25000 - 3s - loss: 0.0934 - accuracy: 0.9738 - binary_crossentropy: 0.0934 - val_loss: 0.3549 - val_accuracy: 0.8726 - val_binary_crossentropy: 0.3549\n",
            "Epoch 14/20\n",
            "25000/25000 - 3s - loss: 0.0857 - accuracy: 0.9770 - binary_crossentropy: 0.0857 - val_loss: 0.3714 - val_accuracy: 0.8696 - val_binary_crossentropy: 0.3714\n",
            "Epoch 15/20\n",
            "25000/25000 - 3s - loss: 0.0793 - accuracy: 0.9794 - binary_crossentropy: 0.0793 - val_loss: 0.3851 - val_accuracy: 0.8694 - val_binary_crossentropy: 0.3851\n",
            "Epoch 16/20\n",
            "25000/25000 - 3s - loss: 0.0732 - accuracy: 0.9822 - binary_crossentropy: 0.0732 - val_loss: 0.4020 - val_accuracy: 0.8668 - val_binary_crossentropy: 0.4020\n",
            "Epoch 17/20\n",
            "25000/25000 - 3s - loss: 0.0673 - accuracy: 0.9845 - binary_crossentropy: 0.0673 - val_loss: 0.4188 - val_accuracy: 0.8657 - val_binary_crossentropy: 0.4188\n",
            "Epoch 18/20\n",
            "25000/25000 - 3s - loss: 0.0623 - accuracy: 0.9869 - binary_crossentropy: 0.0623 - val_loss: 0.4382 - val_accuracy: 0.8637 - val_binary_crossentropy: 0.4382\n",
            "Epoch 19/20\n",
            "25000/25000 - 3s - loss: 0.0575 - accuracy: 0.9882 - binary_crossentropy: 0.0575 - val_loss: 0.4553 - val_accuracy: 0.8625 - val_binary_crossentropy: 0.4553\n",
            "Epoch 20/20\n",
            "25000/25000 - 3s - loss: 0.0531 - accuracy: 0.9903 - binary_crossentropy: 0.0531 - val_loss: 0.4727 - val_accuracy: 0.8616 - val_binary_crossentropy: 0.4727\n"
          ],
          "name": "stdout"
        }
      ]
    },
    {
      "cell_type": "code",
      "metadata": {
        "id": "WcoM2tE9Ar2X",
        "colab_type": "code",
        "outputId": "6d54e1ed-ce2c-414f-ec88-d4c8b9322a4f",
        "colab": {
          "base_uri": "https://localhost:8080/",
          "height": 255
        }
      },
      "source": [
        "bigger_model = keras.Sequential([\n",
        "  keras.layers.Dense(512, activation='relu', input_shape=(NUM_WORDS,)),\n",
        "  keras.layers.Dense(512, activation='relu'),\n",
        "  keras.layers.Dense(1, activation='sigmoid')                          \n",
        "])\n",
        "\n",
        "bigger_model.compile(optimizer='adam', \n",
        "                       loss='binary_crossentropy',\n",
        "                       metrics=['accuracy', 'binary_crossentropy'])\n",
        "\n",
        "bigger_model.summary()"
      ],
      "execution_count": 0,
      "outputs": [
        {
          "output_type": "stream",
          "text": [
            "Model: \"sequential_3\"\n",
            "_________________________________________________________________\n",
            "Layer (type)                 Output Shape              Param #   \n",
            "=================================================================\n",
            "dense_9 (Dense)              (None, 512)               5120512   \n",
            "_________________________________________________________________\n",
            "dense_10 (Dense)             (None, 512)               262656    \n",
            "_________________________________________________________________\n",
            "dense_11 (Dense)             (None, 1)                 513       \n",
            "=================================================================\n",
            "Total params: 5,383,681\n",
            "Trainable params: 5,383,681\n",
            "Non-trainable params: 0\n",
            "_________________________________________________________________\n"
          ],
          "name": "stdout"
        }
      ]
    },
    {
      "cell_type": "code",
      "metadata": {
        "id": "milFLcMJ8326",
        "colab_type": "code",
        "outputId": "97374dcb-3596-4295-e483-afefc8cb27a5",
        "colab": {
          "base_uri": "https://localhost:8080/",
          "height": 734
        }
      },
      "source": [
        "bigger_history = bigger_model.fit(train_data, train_labels,\n",
        "                                  epochs=20,\n",
        "                                  batch_size=512,\n",
        "                                  validation_data=(test_data, test_labels),\n",
        "                                  verbose=2)"
      ],
      "execution_count": 0,
      "outputs": [
        {
          "output_type": "stream",
          "text": [
            "Train on 25000 samples, validate on 25000 samples\n",
            "Epoch 1/20\n",
            "25000/25000 - 19s - loss: 0.3581 - accuracy: 0.8424 - binary_crossentropy: 0.3581 - val_loss: 0.2938 - val_accuracy: 0.8797 - val_binary_crossentropy: 0.2938\n",
            "Epoch 2/20\n",
            "25000/25000 - 19s - loss: 0.1478 - accuracy: 0.9450 - binary_crossentropy: 0.1478 - val_loss: 0.3190 - val_accuracy: 0.8740 - val_binary_crossentropy: 0.3190\n",
            "Epoch 3/20\n",
            "25000/25000 - 18s - loss: 0.0506 - accuracy: 0.9857 - binary_crossentropy: 0.0506 - val_loss: 0.4527 - val_accuracy: 0.8677 - val_binary_crossentropy: 0.4527\n",
            "Epoch 4/20\n",
            "25000/25000 - 18s - loss: 0.0069 - accuracy: 0.9990 - binary_crossentropy: 0.0069 - val_loss: 0.5694 - val_accuracy: 0.8687 - val_binary_crossentropy: 0.5694\n",
            "Epoch 5/20\n",
            "25000/25000 - 18s - loss: 0.0014 - accuracy: 1.0000 - binary_crossentropy: 0.0014 - val_loss: 0.6822 - val_accuracy: 0.8705 - val_binary_crossentropy: 0.6822\n",
            "Epoch 6/20\n",
            "25000/25000 - 18s - loss: 0.0011 - accuracy: 1.0000 - binary_crossentropy: 0.0011 - val_loss: 0.7040 - val_accuracy: 0.8697 - val_binary_crossentropy: 0.7040\n",
            "Epoch 7/20\n",
            "25000/25000 - 18s - loss: 1.8915e-04 - accuracy: 1.0000 - binary_crossentropy: 1.8915e-04 - val_loss: 0.7327 - val_accuracy: 0.8706 - val_binary_crossentropy: 0.7327\n",
            "Epoch 8/20\n",
            "25000/25000 - 18s - loss: 1.2774e-04 - accuracy: 1.0000 - binary_crossentropy: 1.2774e-04 - val_loss: 0.7612 - val_accuracy: 0.8708 - val_binary_crossentropy: 0.7612\n",
            "Epoch 9/20\n",
            "25000/25000 - 18s - loss: 9.4755e-05 - accuracy: 1.0000 - binary_crossentropy: 9.4755e-05 - val_loss: 0.7836 - val_accuracy: 0.8710 - val_binary_crossentropy: 0.7836\n",
            "Epoch 10/20\n",
            "25000/25000 - 18s - loss: 7.3797e-05 - accuracy: 1.0000 - binary_crossentropy: 7.3797e-05 - val_loss: 0.8019 - val_accuracy: 0.8710 - val_binary_crossentropy: 0.8019\n",
            "Epoch 11/20\n",
            "25000/25000 - 18s - loss: 5.9353e-05 - accuracy: 1.0000 - binary_crossentropy: 5.9353e-05 - val_loss: 0.8181 - val_accuracy: 0.8710 - val_binary_crossentropy: 0.8181\n",
            "Epoch 12/20\n",
            "25000/25000 - 19s - loss: 4.8814e-05 - accuracy: 1.0000 - binary_crossentropy: 4.8814e-05 - val_loss: 0.8327 - val_accuracy: 0.8711 - val_binary_crossentropy: 0.8327\n",
            "Epoch 13/20\n",
            "25000/25000 - 18s - loss: 4.0865e-05 - accuracy: 1.0000 - binary_crossentropy: 4.0865e-05 - val_loss: 0.8458 - val_accuracy: 0.8711 - val_binary_crossentropy: 0.8458\n",
            "Epoch 14/20\n",
            "25000/25000 - 18s - loss: 3.4681e-05 - accuracy: 1.0000 - binary_crossentropy: 3.4681e-05 - val_loss: 0.8576 - val_accuracy: 0.8714 - val_binary_crossentropy: 0.8576\n",
            "Epoch 15/20\n",
            "25000/25000 - 19s - loss: 2.9774e-05 - accuracy: 1.0000 - binary_crossentropy: 2.9774e-05 - val_loss: 0.8695 - val_accuracy: 0.8712 - val_binary_crossentropy: 0.8695\n",
            "Epoch 16/20\n",
            "25000/25000 - 19s - loss: 2.5797e-05 - accuracy: 1.0000 - binary_crossentropy: 2.5797e-05 - val_loss: 0.8798 - val_accuracy: 0.8714 - val_binary_crossentropy: 0.8798\n",
            "Epoch 17/20\n",
            "25000/25000 - 18s - loss: 2.2521e-05 - accuracy: 1.0000 - binary_crossentropy: 2.2521e-05 - val_loss: 0.8899 - val_accuracy: 0.8715 - val_binary_crossentropy: 0.8899\n",
            "Epoch 18/20\n",
            "25000/25000 - 18s - loss: 1.9842e-05 - accuracy: 1.0000 - binary_crossentropy: 1.9842e-05 - val_loss: 0.8992 - val_accuracy: 0.8717 - val_binary_crossentropy: 0.8992\n",
            "Epoch 19/20\n",
            "25000/25000 - 18s - loss: 1.7583e-05 - accuracy: 1.0000 - binary_crossentropy: 1.7583e-05 - val_loss: 0.9080 - val_accuracy: 0.8716 - val_binary_crossentropy: 0.9080\n",
            "Epoch 20/20\n",
            "25000/25000 - 18s - loss: 1.5666e-05 - accuracy: 1.0000 - binary_crossentropy: 1.5666e-05 - val_loss: 0.9168 - val_accuracy: 0.8716 - val_binary_crossentropy: 0.9168\n"
          ],
          "name": "stdout"
        }
      ]
    },
    {
      "cell_type": "code",
      "metadata": {
        "id": "0QMGXvlhBvIJ",
        "colab_type": "code",
        "outputId": "beedcafc-8971-4c0c-8a53-fd2ff29c9f4f",
        "colab": {
          "base_uri": "https://localhost:8080/",
          "height": 628
        }
      },
      "source": [
        "def plot_history(histories, key='binary_crossentropy'):\n",
        "  plt.figure(figsize=(16, 10))\n",
        "\n",
        "  for name, history in histories:\n",
        "    val = plt.plot(history.epoch, history.history['val_'+key],\n",
        "                   '--', label=name.title()+' Val')\n",
        "    plt.plot(history.epoch, history.history[key], color=val[0].get_color(),\n",
        "             label=name.title()+' Train')\n",
        "  \n",
        "  plt.xlabel('Epochs')\n",
        "  plt.ylabel(key.replace('_', ' ').title())\n",
        "  plt.legend()\n",
        "\n",
        "  plt.xlim([0, max(history.epoch)])\n",
        "\n",
        "plot_history([('baseline', baseline_history),\n",
        "              ('smaller', smaller_history),\n",
        "              ('bigger', bigger_history)])\n"
      ],
      "execution_count": 0,
      "outputs": [
        {
          "output_type": "display_data",
          "data": {
            "image/png": "[encoded data removed]",
            "text/plain": [
              "<Figure size 1152x720 with 1 Axes>"
            ]
          },
          "metadata": {
            "tags": []
          }
        }
      ]
    },
    {
      "cell_type": "code",
      "metadata": {
        "id": "RPzkmFcoBvSV",
        "colab_type": "code",
        "outputId": "f90415b0-5142-4458-ec2f-b6dfb7550b79",
        "colab": {
          "base_uri": "https://localhost:8080/",
          "height": 734
        }
      },
      "source": [
        "l2_model = keras.models.Sequential([\n",
        "      keras.layers.Dense(16, kernel_regularizer=keras.regularizers.l2(0.001),\n",
        "                         activation='relu', input_shape=(NUM_WORDS,)),\n",
        "      keras.layers.Dense(16, kernel_regularizer=keras.regularizers.l2(0.001),\n",
        "                         activation='relu'),\n",
        "      keras.layers.Dense(1, activation='sigmoid')\n",
        "])\n",
        "\n",
        "l2_model.compile(optimizer='adam', \n",
        "                 loss='binary_crossentropy',\n",
        "                 metrics=['accuracy', 'binary_crossentropy'])\n",
        "l2_model_history = l2_model.fit(train_data, train_labels,\n",
        "                                epochs=20,\n",
        "                                batch_size=512,\n",
        "                                validation_data=(test_data, test_labels),\n",
        "                                verbose=2)"
      ],
      "execution_count": 0,
      "outputs": [
        {
          "output_type": "stream",
          "text": [
            "Train on 25000 samples, validate on 25000 samples\n",
            "Epoch 1/20\n",
            "25000/25000 - 4s - loss: 0.5239 - accuracy: 0.8033 - binary_crossentropy: 0.4838 - val_loss: 0.3795 - val_accuracy: 0.8726 - val_binary_crossentropy: 0.3392\n",
            "Epoch 2/20\n",
            "25000/25000 - 3s - loss: 0.2992 - accuracy: 0.9093 - binary_crossentropy: 0.2547 - val_loss: 0.3350 - val_accuracy: 0.8859 - val_binary_crossentropy: 0.2873\n",
            "Epoch 3/20\n",
            "25000/25000 - 3s - loss: 0.2465 - accuracy: 0.9311 - binary_crossentropy: 0.1961 - val_loss: 0.3385 - val_accuracy: 0.8848 - val_binary_crossentropy: 0.2862\n",
            "Epoch 4/20\n",
            "25000/25000 - 3s - loss: 0.2246 - accuracy: 0.9415 - binary_crossentropy: 0.1705 - val_loss: 0.3564 - val_accuracy: 0.8797 - val_binary_crossentropy: 0.3008\n",
            "Epoch 5/20\n",
            "25000/25000 - 3s - loss: 0.2109 - accuracy: 0.9456 - binary_crossentropy: 0.1539 - val_loss: 0.3663 - val_accuracy: 0.8775 - val_binary_crossentropy: 0.3082\n",
            "Epoch 6/20\n",
            "25000/25000 - 3s - loss: 0.1990 - accuracy: 0.9532 - binary_crossentropy: 0.1400 - val_loss: 0.3773 - val_accuracy: 0.8759 - val_binary_crossentropy: 0.3178\n",
            "Epoch 7/20\n",
            "25000/25000 - 3s - loss: 0.1920 - accuracy: 0.9561 - binary_crossentropy: 0.1317 - val_loss: 0.3929 - val_accuracy: 0.8720 - val_binary_crossentropy: 0.3319\n",
            "Epoch 8/20\n",
            "25000/25000 - 3s - loss: 0.1845 - accuracy: 0.9584 - binary_crossentropy: 0.1227 - val_loss: 0.4051 - val_accuracy: 0.8708 - val_binary_crossentropy: 0.3430\n",
            "Epoch 9/20\n",
            "25000/25000 - 3s - loss: 0.1770 - accuracy: 0.9623 - binary_crossentropy: 0.1146 - val_loss: 0.4171 - val_accuracy: 0.8679 - val_binary_crossentropy: 0.3543\n",
            "Epoch 10/20\n",
            "25000/25000 - 3s - loss: 0.1716 - accuracy: 0.9660 - binary_crossentropy: 0.1083 - val_loss: 0.4321 - val_accuracy: 0.8667 - val_binary_crossentropy: 0.3683\n",
            "Epoch 11/20\n",
            "25000/25000 - 3s - loss: 0.1669 - accuracy: 0.9670 - binary_crossentropy: 0.1028 - val_loss: 0.4447 - val_accuracy: 0.8654 - val_binary_crossentropy: 0.3802\n",
            "Epoch 12/20\n",
            "25000/25000 - 3s - loss: 0.1643 - accuracy: 0.9683 - binary_crossentropy: 0.0992 - val_loss: 0.4662 - val_accuracy: 0.8610 - val_binary_crossentropy: 0.4005\n",
            "Epoch 13/20\n",
            "25000/25000 - 3s - loss: 0.1614 - accuracy: 0.9703 - binary_crossentropy: 0.0951 - val_loss: 0.4730 - val_accuracy: 0.8614 - val_binary_crossentropy: 0.4062\n",
            "Epoch 14/20\n",
            "25000/25000 - 3s - loss: 0.1566 - accuracy: 0.9717 - binary_crossentropy: 0.0895 - val_loss: 0.4817 - val_accuracy: 0.8622 - val_binary_crossentropy: 0.4141\n",
            "Epoch 15/20\n",
            "25000/25000 - 3s - loss: 0.1567 - accuracy: 0.9722 - binary_crossentropy: 0.0883 - val_loss: 0.5058 - val_accuracy: 0.8594 - val_binary_crossentropy: 0.4369\n",
            "Epoch 16/20\n",
            "25000/25000 - 3s - loss: 0.1508 - accuracy: 0.9744 - binary_crossentropy: 0.0815 - val_loss: 0.5018 - val_accuracy: 0.8597 - val_binary_crossentropy: 0.4324\n",
            "Epoch 17/20\n",
            "25000/25000 - 3s - loss: 0.1423 - accuracy: 0.9779 - binary_crossentropy: 0.0730 - val_loss: 0.5136 - val_accuracy: 0.8603 - val_binary_crossentropy: 0.4444\n",
            "Epoch 18/20\n",
            "25000/25000 - 3s - loss: 0.1415 - accuracy: 0.9782 - binary_crossentropy: 0.0723 - val_loss: 0.5313 - val_accuracy: 0.8561 - val_binary_crossentropy: 0.4615\n",
            "Epoch 19/20\n",
            "25000/25000 - 3s - loss: 0.1393 - accuracy: 0.9792 - binary_crossentropy: 0.0691 - val_loss: 0.5393 - val_accuracy: 0.8565 - val_binary_crossentropy: 0.4687\n",
            "Epoch 20/20\n",
            "25000/25000 - 3s - loss: 0.1333 - accuracy: 0.9818 - binary_crossentropy: 0.0626 - val_loss: 0.5522 - val_accuracy: 0.8577 - val_binary_crossentropy: 0.4813\n"
          ],
          "name": "stdout"
        }
      ]
    },
    {
      "cell_type": "code",
      "metadata": {
        "id": "FRF1_Z7VBvVN",
        "colab_type": "code",
        "outputId": "3806658f-e463-466d-a993-e08feeff24e4",
        "colab": {
          "base_uri": "https://localhost:8080/",
          "height": 628
        }
      },
      "source": [
        "plot_history([('baseline', baseline_history),\n",
        "              ('l2', l2_model_history)])"
      ],
      "execution_count": 0,
      "outputs": [
        {
          "output_type": "display_data",
          "data": {
            "image/png": "[encoded data removed]",
            "text/plain": [
              "<Figure size 1152x720 with 1 Axes>"
            ]
          },
          "metadata": {
            "tags": []
          }
        }
      ]
    },
    {
      "cell_type": "code",
      "metadata": {
        "id": "F3e648hnBvX3",
        "colab_type": "code",
        "outputId": "761da1b4-7d21-4906-dc29-bc110f3209a4",
        "colab": {
          "base_uri": "https://localhost:8080/",
          "height": 734
        }
      },
      "source": [
        "dpt_model = keras.models.Sequential([\n",
        "    keras.layers.Dense(16, activation='relu', input_shape=(NUM_WORDS,)),\n",
        "    keras.layers.Dropout(0.5),\n",
        "    keras.layers.Dense(16, activation='relu'),\n",
        "    keras.layers.Dropout(0.5),\n",
        "    keras.layers.Dense(1, activation='sigmoid')\n",
        "])\n",
        "\n",
        "dpt_model.compile(optimizer='adam',\n",
        "                  loss='binary_crossentropy',\n",
        "                  metrics=['accuracy','binary_crossentropy'])\n",
        "\n",
        "dpt_model_history = dpt_model.fit(train_data, train_labels,\n",
        "                                  epochs=20,\n",
        "                                  batch_size=512,\n",
        "                                  validation_data=(test_data, test_labels),\n",
        "                                  verbose=2)"
      ],
      "execution_count": 0,
      "outputs": [
        {
          "output_type": "stream",
          "text": [
            "Train on 25000 samples, validate on 25000 samples\n",
            "Epoch 1/20\n",
            "25000/25000 - 4s - loss: 0.6275 - accuracy: 0.6371 - binary_crossentropy: 0.6275 - val_loss: 0.4981 - val_accuracy: 0.8484 - val_binary_crossentropy: 0.4981\n",
            "Epoch 2/20\n",
            "25000/25000 - 3s - loss: 0.4600 - accuracy: 0.8118 - binary_crossentropy: 0.4600 - val_loss: 0.3520 - val_accuracy: 0.8816 - val_binary_crossentropy: 0.3520\n",
            "Epoch 3/20\n",
            "25000/25000 - 3s - loss: 0.3609 - accuracy: 0.8712 - binary_crossentropy: 0.3609 - val_loss: 0.2927 - val_accuracy: 0.8873 - val_binary_crossentropy: 0.2927\n",
            "Epoch 4/20\n",
            "25000/25000 - 3s - loss: 0.2956 - accuracy: 0.8986 - binary_crossentropy: 0.2956 - val_loss: 0.2833 - val_accuracy: 0.8890 - val_binary_crossentropy: 0.2833\n",
            "Epoch 5/20\n",
            "25000/25000 - 3s - loss: 0.2540 - accuracy: 0.9178 - binary_crossentropy: 0.2540 - val_loss: 0.2779 - val_accuracy: 0.8884 - val_binary_crossentropy: 0.2779\n",
            "Epoch 6/20\n",
            "25000/25000 - 3s - loss: 0.2152 - accuracy: 0.9293 - binary_crossentropy: 0.2152 - val_loss: 0.2867 - val_accuracy: 0.8876 - val_binary_crossentropy: 0.2867\n",
            "Epoch 7/20\n",
            "25000/25000 - 3s - loss: 0.1913 - accuracy: 0.9363 - binary_crossentropy: 0.1913 - val_loss: 0.3026 - val_accuracy: 0.8831 - val_binary_crossentropy: 0.3026\n",
            "Epoch 8/20\n",
            "25000/25000 - 3s - loss: 0.1702 - accuracy: 0.9462 - binary_crossentropy: 0.1702 - val_loss: 0.3141 - val_accuracy: 0.8841 - val_binary_crossentropy: 0.3141\n",
            "Epoch 9/20\n",
            "25000/25000 - 3s - loss: 0.1534 - accuracy: 0.9504 - binary_crossentropy: 0.1534 - val_loss: 0.3412 - val_accuracy: 0.8830 - val_binary_crossentropy: 0.3412\n",
            "Epoch 10/20\n",
            "25000/25000 - 3s - loss: 0.1380 - accuracy: 0.9559 - binary_crossentropy: 0.1380 - val_loss: 0.3747 - val_accuracy: 0.8813 - val_binary_crossentropy: 0.3747\n",
            "Epoch 11/20\n",
            "25000/25000 - 3s - loss: 0.1285 - accuracy: 0.9582 - binary_crossentropy: 0.1285 - val_loss: 0.3668 - val_accuracy: 0.8794 - val_binary_crossentropy: 0.3668\n",
            "Epoch 12/20\n",
            "25000/25000 - 3s - loss: 0.1171 - accuracy: 0.9637 - binary_crossentropy: 0.1171 - val_loss: 0.3925 - val_accuracy: 0.8791 - val_binary_crossentropy: 0.3925\n",
            "Epoch 13/20\n",
            "25000/25000 - 3s - loss: 0.1037 - accuracy: 0.9675 - binary_crossentropy: 0.1037 - val_loss: 0.4278 - val_accuracy: 0.8789 - val_binary_crossentropy: 0.4278\n",
            "Epoch 14/20\n",
            "25000/25000 - 3s - loss: 0.0997 - accuracy: 0.9683 - binary_crossentropy: 0.0997 - val_loss: 0.4378 - val_accuracy: 0.8776 - val_binary_crossentropy: 0.4378\n",
            "Epoch 15/20\n",
            "25000/25000 - 3s - loss: 0.0907 - accuracy: 0.9723 - binary_crossentropy: 0.0907 - val_loss: 0.4627 - val_accuracy: 0.8762 - val_binary_crossentropy: 0.4627\n",
            "Epoch 16/20\n",
            "25000/25000 - 3s - loss: 0.0875 - accuracy: 0.9717 - binary_crossentropy: 0.0875 - val_loss: 0.5057 - val_accuracy: 0.8768 - val_binary_crossentropy: 0.5057\n",
            "Epoch 17/20\n",
            "25000/25000 - 3s - loss: 0.0835 - accuracy: 0.9733 - binary_crossentropy: 0.0835 - val_loss: 0.5268 - val_accuracy: 0.8757 - val_binary_crossentropy: 0.5268\n",
            "Epoch 18/20\n",
            "25000/25000 - 3s - loss: 0.0795 - accuracy: 0.9745 - binary_crossentropy: 0.0795 - val_loss: 0.5380 - val_accuracy: 0.8768 - val_binary_crossentropy: 0.5380\n",
            "Epoch 19/20\n",
            "25000/25000 - 3s - loss: 0.0744 - accuracy: 0.9756 - binary_crossentropy: 0.0744 - val_loss: 0.5386 - val_accuracy: 0.8751 - val_binary_crossentropy: 0.5386\n",
            "Epoch 20/20\n",
            "25000/25000 - 3s - loss: 0.0755 - accuracy: 0.9742 - binary_crossentropy: 0.0755 - val_loss: 0.5979 - val_accuracy: 0.8764 - val_binary_crossentropy: 0.5979\n"
          ],
          "name": "stdout"
        }
      ]
    },
    {
      "cell_type": "code",
      "metadata": {
        "id": "NJfT4ycFBvgj",
        "colab_type": "code",
        "outputId": "8b457ca2-2846-4a7a-d45a-a05c1f0d4765",
        "colab": {
          "base_uri": "https://localhost:8080/",
          "height": 628
        }
      },
      "source": [
        "plot_history([('baseline', baseline_history),\n",
        "              ('dropout', dpt_model_history)])\n"
      ],
      "execution_count": 0,
      "outputs": [
        {
          "output_type": "display_data",
          "data": {
            "image/png": "[encoded data removed]",
            "text/plain": [
              "<Figure size 1152x720 with 1 Axes>"
            ]
          },
          "metadata": {
            "tags": []
          }
        }
      ]
    },
    {
      "cell_type": "markdown",
      "metadata": {
        "id": "A7hrbrjXGAkt",
        "colab_type": "text"
      },
      "source": [
        "#load CSV data\n"
      ]
    },
    {
      "cell_type": "code",
      "metadata": {
        "id": "A47VyASMGFwt",
        "colab_type": "code",
        "colab": {}
      },
      "source": [
        "from __future__ import absolute_import, division, print_function, unicode_literals\n",
        "import functools\n",
        "\n",
        "import numpy as np\n",
        "import tensorflow as tf"
      ],
      "execution_count": 0,
      "outputs": []
    },
    {
      "cell_type": "code",
      "metadata": {
        "id": "ktWWdkQHGGN6",
        "colab_type": "code",
        "outputId": "bfcdd0ac-c7ad-4cb0-e5e4-b29bb29cf9ea",
        "colab": {
          "base_uri": "https://localhost:8080/",
          "height": 85
        }
      },
      "source": [
        "TRAIN_DATA_URL = \"https://storage.googleapis.com/tf-datasets/titanic/train.csv\"\n",
        "TEST_DATA_URL = \"https://storage.googleapis.com/tf-datasets/titanic/eval.csv\"\n",
        "\n",
        "train_file_path = tf.keras.utils.get_file(\"train.csv\", TRAIN_DATA_URL)\n",
        "test_file_path = tf.keras.utils.get_file(\"eval.csv\", TEST_DATA_URL)"
      ],
      "execution_count": 0,
      "outputs": [
        {
          "output_type": "stream",
          "text": [
            "Downloading data from https://storage.googleapis.com/tf-datasets/titanic/train.csv\n",
            "32768/30874 [===============================] - 0s 0us/step\n",
            "Downloading data from https://storage.googleapis.com/tf-datasets/titanic/eval.csv\n",
            "16384/13049 [=====================================] - 0s 0us/step\n"
          ],
          "name": "stdout"
        }
      ]
    },
    {
      "cell_type": "code",
      "metadata": {
        "id": "J48wfd3wGGQz",
        "colab_type": "code",
        "colab": {}
      },
      "source": [
        "np.set_printoptions(precision=3, suppress=True)"
      ],
      "execution_count": 0,
      "outputs": []
    },
    {
      "cell_type": "code",
      "metadata": {
        "id": "x-4KS-gkGGTL",
        "colab_type": "code",
        "outputId": "314b29df-23b6-4b3e-f4b7-677dd6d95b00",
        "colab": {
          "base_uri": "https://localhost:8080/",
          "height": 34
        }
      },
      "source": [
        "train_file_path"
      ],
      "execution_count": 0,
      "outputs": [
        {
          "output_type": "execute_result",
          "data": {
            "text/plain": [
              "'/root/.keras/datasets/train.csv'"
            ]
          },
          "metadata": {
            "tags": []
          },
          "execution_count": 29
        }
      ]
    },
    {
      "cell_type": "code",
      "metadata": {
        "id": "jO5FhtJmGGV-",
        "colab_type": "code",
        "outputId": "1957477d-12e7-4c0d-c9e4-d6bf80547a30",
        "colab": {
          "base_uri": "https://localhost:8080/",
          "height": 187
        }
      },
      "source": [
        "!head {train_file_path}"
      ],
      "execution_count": 0,
      "outputs": [
        {
          "output_type": "stream",
          "text": [
            "survived,sex,age,n_siblings_spouses,parch,fare,class,deck,embark_town,alone\n",
            "0,male,22.0,1,0,7.25,Third,unknown,Southampton,n\n",
            "1,female,38.0,1,0,71.2833,First,C,Cherbourg,n\n",
            "1,female,26.0,0,0,7.925,Third,unknown,Southampton,y\n",
            "1,female,35.0,1,0,53.1,First,C,Southampton,n\n",
            "0,male,28.0,0,0,8.4583,Third,unknown,Queenstown,y\n",
            "0,male,2.0,3,1,21.075,Third,unknown,Southampton,n\n",
            "1,female,27.0,0,2,11.1333,Third,unknown,Southampton,n\n",
            "1,female,14.0,1,0,30.0708,Second,unknown,Cherbourg,n\n",
            "1,female,4.0,1,1,16.7,Third,G,Southampton,n\n"
          ],
          "name": "stdout"
        }
      ]
    },
    {
      "cell_type": "code",
      "metadata": {
        "id": "bqxk49G_GGYn",
        "colab_type": "code",
        "colab": {}
      },
      "source": [
        "LABEL_COLUMN = 'survived'\n",
        "LABELS = [0, 1]"
      ],
      "execution_count": 0,
      "outputs": []
    },
    {
      "cell_type": "code",
      "metadata": {
        "id": "hpdmaNnhGGbQ",
        "colab_type": "code",
        "outputId": "6b023a94-1abf-420a-cdaf-52c993c7ef03",
        "colab": {
          "base_uri": "https://localhost:8080/",
          "height": 88
        }
      },
      "source": [
        "def get_dataset(file_path, **kwargs):\n",
        "  dataset = tf.data.experimental.make_csv_dataset(\n",
        "      file_path,\n",
        "      batch_size=5,\n",
        "      label_name=LABEL_COLUMN,\n",
        "      na_value=\"?\",\n",
        "      num_epochs=1,\n",
        "      ignore_errors=True, \n",
        "      **kwargs)\n",
        "  return dataset\n",
        "\n",
        "raw_train_data = get_dataset(train_file_path)\n",
        "raw_test_data = get_dataset(test_file_path)"
      ],
      "execution_count": 0,
      "outputs": [
        {
          "output_type": "stream",
          "text": [
            "WARNING:tensorflow:From /usr/local/lib/python3.6/dist-packages/tensorflow_core/python/data/experimental/ops/readers.py:540: parallel_interleave (from tensorflow.python.data.experimental.ops.interleave_ops) is deprecated and will be removed in a future version.\n",
            "Instructions for updating:\n",
            "Use `tf.data.Dataset.interleave(map_func, cycle_length, block_length, num_parallel_calls=tf.data.experimental.AUTOTUNE)` instead. If sloppy execution is desired, use `tf.data.Options.experimental_deterministic`.\n"
          ],
          "name": "stdout"
        }
      ]
    },
    {
      "cell_type": "code",
      "metadata": {
        "id": "j3wO2BHRGGeK",
        "colab_type": "code",
        "colab": {}
      },
      "source": [
        "def show_batch(dataset):\n",
        "  for batch, label in dataset.take(1):\n",
        "    for key, value in batch.items():\n",
        "      print(\"{:20s}: {}\".format(key, value.numpy()))"
      ],
      "execution_count": 0,
      "outputs": []
    },
    {
      "cell_type": "code",
      "metadata": {
        "id": "1Zk8tW5vGGkA",
        "colab_type": "code",
        "outputId": "b15f1b88-5ee6-4756-da59-547c59e8edc8",
        "colab": {
          "base_uri": "https://localhost:8080/",
          "height": 190
        }
      },
      "source": [
        "show_batch(raw_train_data)"
      ],
      "execution_count": 0,
      "outputs": [
        {
          "output_type": "stream",
          "text": [
            "sex                 : [b'male' b'male' b'male' b'male' b'female']\n",
            "age                 : [28. 26. 34. 35. 22.]\n",
            "n_siblings_spouses  : [0 0 1 0 1]\n",
            "parch               : [0 0 0 0 1]\n",
            "fare                : [29.7   56.496 21.     8.05  29.   ]\n",
            "class               : [b'First' b'Third' b'Second' b'Third' b'Second']\n",
            "deck                : [b'C' b'unknown' b'unknown' b'unknown' b'unknown']\n",
            "embark_town         : [b'Cherbourg' b'Southampton' b'Southampton' b'Southampton' b'Southampton']\n",
            "alone               : [b'y' b'y' b'n' b'y' b'n']\n"
          ],
          "name": "stdout"
        }
      ]
    },
    {
      "cell_type": "code",
      "metadata": {
        "id": "L2Dr8U_JGGmv",
        "colab_type": "code",
        "outputId": "dcc3daa5-bdfd-43d2-c47b-6fee5c65c7ba",
        "colab": {
          "base_uri": "https://localhost:8080/",
          "height": 187
        }
      },
      "source": [
        "CSV_COLUMNS = ['survived', 'sex', 'age', 'n_siblings_spouses', 'parch', 'fare', 'class', 'deck', 'embark_town', 'alone']\n",
        "\n",
        "temp_dataset = get_dataset(train_file_path, column_names=CSV_COLUMNS)\n",
        "\n",
        "show_batch(temp_dataset)"
      ],
      "execution_count": 0,
      "outputs": [
        {
          "output_type": "stream",
          "text": [
            "sex                 : [b'male' b'male' b'male' b'male' b'male']\n",
            "age                 : [21.  25.  28.  22.  30.5]\n",
            "n_siblings_spouses  : [0 1 0 1 0]\n",
            "parch               : [0 0 0 0 0]\n",
            "fare                : [ 7.775 26.    56.496  7.25   8.05 ]\n",
            "class               : [b'Third' b'Second' b'Third' b'Third' b'Third']\n",
            "deck                : [b'unknown' b'unknown' b'unknown' b'unknown' b'unknown']\n",
            "embark_town         : [b'Southampton' b'Southampton' b'Southampton' b'Southampton'\n",
            " b'Southampton']\n",
            "alone               : [b'y' b'n' b'y' b'n' b'y']\n"
          ],
          "name": "stdout"
        }
      ]
    },
    {
      "cell_type": "code",
      "metadata": {
        "id": "nwktf7K_JWmh",
        "colab_type": "code",
        "outputId": "abcc1855-44a6-401b-9f0d-c26fc463a709",
        "colab": {
          "base_uri": "https://localhost:8080/",
          "height": 85
        }
      },
      "source": [
        "SELECT_COLUMNS = ['survived', 'age', 'n_siblings_spouses', 'parch', 'fare']\n",
        "DEFAULTS = [0, 0.0, 0.0, 0.0, 0.0]\n",
        "temp_dataset = get_dataset(train_file_path,\n",
        "                           select_columns=SELECT_COLUMNS,\n",
        "                           column_defaults = DEFAULTS)\n",
        "\n",
        "show_batch(temp_dataset)"
      ],
      "execution_count": 0,
      "outputs": [
        {
          "output_type": "stream",
          "text": [
            "age                 : [29. 30. 39. 42. 27.]\n",
            "n_siblings_spouses  : [0. 1. 0. 1. 0.]\n",
            "parch               : [0. 1. 0. 0. 0.]\n",
            "fare                : [30.    24.15  13.    27.     7.925]\n"
          ],
          "name": "stdout"
        }
      ]
    },
    {
      "cell_type": "code",
      "metadata": {
        "id": "xGjwhVmYKE5c",
        "colab_type": "code",
        "colab": {}
      },
      "source": [
        "example_batch, labels_batch = next(iter(temp_dataset))"
      ],
      "execution_count": 0,
      "outputs": []
    },
    {
      "cell_type": "code",
      "metadata": {
        "id": "KmL-JlqPKE8D",
        "colab_type": "code",
        "outputId": "ed323d97-5bf8-4c89-c24d-e4349f058913",
        "colab": {
          "base_uri": "https://localhost:8080/",
          "height": 173
        }
      },
      "source": [
        "example_batch"
      ],
      "execution_count": 0,
      "outputs": [
        {
          "output_type": "execute_result",
          "data": {
            "text/plain": [
              "OrderedDict([('age',\n",
              "              <tf.Tensor: shape=(5,), dtype=float32, numpy=array([48., 19., 28., 35., 36.], dtype=float32)>),\n",
              "             ('n_siblings_spouses',\n",
              "              <tf.Tensor: shape=(5,), dtype=float32, numpy=array([0., 0., 0., 1., 1.], dtype=float32)>),\n",
              "             ('parch',\n",
              "              <tf.Tensor: shape=(5,), dtype=float32, numpy=array([0., 0., 0., 0., 2.], dtype=float32)>),\n",
              "             ('fare',\n",
              "              <tf.Tensor: shape=(5,), dtype=float32, numpy=array([ 26.55 ,   7.896,  30.696,  90.   , 120.   ], dtype=float32)>)])"
            ]
          },
          "metadata": {
            "tags": []
          },
          "execution_count": 40
        }
      ]
    },
    {
      "cell_type": "code",
      "metadata": {
        "id": "xRCmOLSiKE-y",
        "colab_type": "code",
        "colab": {}
      },
      "source": [
        "def pack(features, label):\n",
        "  return tf.stack(list(features.values()), axis=1), label"
      ],
      "execution_count": 0,
      "outputs": []
    },
    {
      "cell_type": "code",
      "metadata": {
        "id": "9wza7VGKKFBo",
        "colab_type": "code",
        "outputId": "d49078a5-73d2-4c25-bced-c716a7dabaa4",
        "colab": {
          "base_uri": "https://localhost:8080/",
          "height": 136
        }
      },
      "source": [
        "packed_dataset = temp_dataset.map(pack)\n",
        "\n",
        "for features, labels in packed_dataset.take(1):\n",
        "  print(features.numpy())\n",
        "  print()\n",
        "  print(labels.numpy())"
      ],
      "execution_count": 0,
      "outputs": [
        {
          "output_type": "stream",
          "text": [
            "[[ 17.      0.      2.    110.883]\n",
            " [ 33.      1.      1.     20.525]\n",
            " [ 51.      0.      0.      8.05 ]\n",
            " [ 36.      1.      0.     78.85 ]\n",
            " [ 40.      0.      0.    153.462]]\n",
            "\n",
            "[1 0 0 0 1]\n"
          ],
          "name": "stdout"
        }
      ]
    },
    {
      "cell_type": "code",
      "metadata": {
        "id": "Di50YxaoKFEP",
        "colab_type": "code",
        "outputId": "6de21d3b-d05c-4750-dcd9-6727957cc536",
        "colab": {
          "base_uri": "https://localhost:8080/",
          "height": 190
        }
      },
      "source": [
        "show_batch(raw_train_data)"
      ],
      "execution_count": 0,
      "outputs": [
        {
          "output_type": "stream",
          "text": [
            "sex                 : [b'male' b'male' b'male' b'female' b'male']\n",
            "age                 : [20. 16. 28. 63. 30.]\n",
            "n_siblings_spouses  : [0 0 3 0 0]\n",
            "parch               : [0 0 1 0 0]\n",
            "fare                : [ 7.05   9.5   25.467  9.587  7.229]\n",
            "class               : [b'Third' b'Third' b'Third' b'Third' b'Third']\n",
            "deck                : [b'unknown' b'unknown' b'unknown' b'unknown' b'unknown']\n",
            "embark_town         : [b'Southampton' b'Southampton' b'Southampton' b'Southampton' b'Cherbourg']\n",
            "alone               : [b'y' b'y' b'n' b'y' b'y']\n"
          ],
          "name": "stdout"
        }
      ]
    },
    {
      "cell_type": "code",
      "metadata": {
        "id": "y6X6NRh6KFHC",
        "colab_type": "code",
        "colab": {}
      },
      "source": [
        "example_batch, labels_batch = next(iter(temp_dataset)) "
      ],
      "execution_count": 0,
      "outputs": []
    },
    {
      "cell_type": "code",
      "metadata": {
        "id": "aphRNxGQKFJy",
        "colab_type": "code",
        "colab": {}
      },
      "source": [
        "class PackNumericFeatures(object):\n",
        "  def __init__(self, names):\n",
        "    self.names = names\n",
        "  \n",
        "  def __call__(self, features, labels):\n",
        "    numeric_features = [features.pop(name) for name in self.names]\n",
        "    numeric_features = [tf.cast(feat, tf.float32) for feat in numeric_features]\n",
        "    numeric_features = tf.stack(numeric_features, axis=-1)\n",
        "    features['numeric'] = numeric_features\n",
        "\n",
        "    return features, labels\n",
        "    "
      ],
      "execution_count": 0,
      "outputs": []
    },
    {
      "cell_type": "code",
      "metadata": {
        "id": "Bx_gVL5XKFMl",
        "colab_type": "code",
        "colab": {}
      },
      "source": [
        "NUMERIC_FEATURES = ['age','n_siblings_spouses','parch', 'fare']\n",
        "\n",
        "packed_train_data = raw_train_data.map(\n",
        "    PackNumericFeatures(NUMERIC_FEATURES))\n",
        "\n",
        "packed_test_data = raw_test_data.map(\n",
        "    PackNumericFeatures(NUMERIC_FEATURES))"
      ],
      "execution_count": 0,
      "outputs": []
    },
    {
      "cell_type": "code",
      "metadata": {
        "id": "1KblO4_ZJWpQ",
        "colab_type": "code",
        "outputId": "97aca00b-ef20-45b8-cb43-3d23bdafa064",
        "colab": {
          "base_uri": "https://localhost:8080/",
          "height": 207
        }
      },
      "source": [
        "show_batch(packed_train_data)\n"
      ],
      "execution_count": 0,
      "outputs": [
        {
          "output_type": "stream",
          "text": [
            "sex                 : [b'female' b'male' b'female' b'female' b'male']\n",
            "class               : [b'Third' b'Third' b'Third' b'First' b'First']\n",
            "deck                : [b'unknown' b'unknown' b'unknown' b'D' b'B']\n",
            "embark_town         : [b'Southampton' b'Southampton' b'Queenstown' b'Cherbourg' b'Southampton']\n",
            "alone               : [b'n' b'y' b'y' b'n' b'n']\n",
            "numeric             : [[ 28.      8.      2.     69.55 ]\n",
            " [ 51.      0.      0.      7.054]\n",
            " [ 28.      0.      0.      7.733]\n",
            " [ 23.      1.      0.    113.275]\n",
            " [ 11.      1.      2.    120.   ]]\n"
          ],
          "name": "stdout"
        }
      ]
    },
    {
      "cell_type": "code",
      "metadata": {
        "id": "Rhu3wN4DJWsC",
        "colab_type": "code",
        "colab": {}
      },
      "source": [
        "example_batch, labels_batch = next(iter(packed_train_data)) \n"
      ],
      "execution_count": 0,
      "outputs": []
    },
    {
      "cell_type": "code",
      "metadata": {
        "id": "Mg-sBg63JWxs",
        "colab_type": "code",
        "outputId": "a7bdf782-cc45-491a-d5c4-c00a861a3871",
        "colab": {
          "base_uri": "https://localhost:8080/",
          "height": 297
        }
      },
      "source": [
        "import pandas as pd\n",
        "desc = pd.read_csv(train_file_path)[NUMERIC_FEATURES].describe()\n",
        "desc"
      ],
      "execution_count": 0,
      "outputs": [
        {
          "output_type": "execute_result",
          "data": {
            "text/html": [
              "<div>\n",
              "<style scoped>\n",
              "    .dataframe tbody tr th:only-of-type {\n",
              "        vertical-align: middle;\n",
              "    }\n",
              "\n",
              "    .dataframe tbody tr th {\n",
              "        vertical-align: top;\n",
              "    }\n",
              "\n",
              "    .dataframe thead th {\n",
              "        text-align: right;\n",
              "    }\n",
              "</style>\n",
              "<table border=\"1\" class=\"dataframe\">\n",
              "  <thead>\n",
              "    <tr style=\"text-align: right;\">\n",
              "      <th></th>\n",
              "      <th>age</th>\n",
              "      <th>n_siblings_spouses</th>\n",
              "      <th>parch</th>\n",
              "      <th>fare</th>\n",
              "    </tr>\n",
              "  </thead>\n",
              "  <tbody>\n",
              "    <tr>\n",
              "      <th>count</th>\n",
              "      <td>627.000000</td>\n",
              "      <td>627.000000</td>\n",
              "      <td>627.000000</td>\n",
              "      <td>627.000000</td>\n",
              "    </tr>\n",
              "    <tr>\n",
              "      <th>mean</th>\n",
              "      <td>29.631308</td>\n",
              "      <td>0.545455</td>\n",
              "      <td>0.379585</td>\n",
              "      <td>34.385399</td>\n",
              "    </tr>\n",
              "    <tr>\n",
              "      <th>std</th>\n",
              "      <td>12.511818</td>\n",
              "      <td>1.151090</td>\n",
              "      <td>0.792999</td>\n",
              "      <td>54.597730</td>\n",
              "    </tr>\n",
              "    <tr>\n",
              "      <th>min</th>\n",
              "      <td>0.750000</td>\n",
              "      <td>0.000000</td>\n",
              "      <td>0.000000</td>\n",
              "      <td>0.000000</td>\n",
              "    </tr>\n",
              "    <tr>\n",
              "      <th>25%</th>\n",
              "      <td>23.000000</td>\n",
              "      <td>0.000000</td>\n",
              "      <td>0.000000</td>\n",
              "      <td>7.895800</td>\n",
              "    </tr>\n",
              "    <tr>\n",
              "      <th>50%</th>\n",
              "      <td>28.000000</td>\n",
              "      <td>0.000000</td>\n",
              "      <td>0.000000</td>\n",
              "      <td>15.045800</td>\n",
              "    </tr>\n",
              "    <tr>\n",
              "      <th>75%</th>\n",
              "      <td>35.000000</td>\n",
              "      <td>1.000000</td>\n",
              "      <td>0.000000</td>\n",
              "      <td>31.387500</td>\n",
              "    </tr>\n",
              "    <tr>\n",
              "      <th>max</th>\n",
              "      <td>80.000000</td>\n",
              "      <td>8.000000</td>\n",
              "      <td>5.000000</td>\n",
              "      <td>512.329200</td>\n",
              "    </tr>\n",
              "  </tbody>\n",
              "</table>\n",
              "</div>"
            ],
            "text/plain": [
              "              age  n_siblings_spouses       parch        fare\n",
              "count  627.000000          627.000000  627.000000  627.000000\n",
              "mean    29.631308            0.545455    0.379585   34.385399\n",
              "std     12.511818            1.151090    0.792999   54.597730\n",
              "min      0.750000            0.000000    0.000000    0.000000\n",
              "25%     23.000000            0.000000    0.000000    7.895800\n",
              "50%     28.000000            0.000000    0.000000   15.045800\n",
              "75%     35.000000            1.000000    0.000000   31.387500\n",
              "max     80.000000            8.000000    5.000000  512.329200"
            ]
          },
          "metadata": {
            "tags": []
          },
          "execution_count": 58
        }
      ]
    },
    {
      "cell_type": "code",
      "metadata": {
        "id": "AzPLeIAbJW0m",
        "colab_type": "code",
        "colab": {}
      },
      "source": [
        "MEAN = np.array(desc.T['mean'])\n",
        "STD = np.array(desc.T['std'])"
      ],
      "execution_count": 0,
      "outputs": []
    },
    {
      "cell_type": "code",
      "metadata": {
        "id": "PU8DkbwrRCIB",
        "colab_type": "code",
        "colab": {}
      },
      "source": [
        "def normalize_numeric_data(data, mean, std):\n",
        "  # Center the data\n",
        "  return (data-mean)/std"
      ],
      "execution_count": 0,
      "outputs": []
    },
    {
      "cell_type": "code",
      "metadata": {
        "id": "OTJg6zqkRCtr",
        "colab_type": "code",
        "outputId": "cde4cbb7-ce92-4725-ec6f-ba6e2407817b",
        "colab": {
          "base_uri": "https://localhost:8080/",
          "height": 54
        }
      },
      "source": [
        "normalizer = functools.partial(normalize_numeric_data, mean=MEAN, std=STD)\n",
        "\n",
        "numeric_column = tf.feature_column.numeric_column('numeric', normalizer_fn=normalizer, shape=[len(NUMERIC_FEATURES)])\n",
        "numeric_columns = [numeric_column]\n",
        "numeric_column"
      ],
      "execution_count": 0,
      "outputs": [
        {
          "output_type": "execute_result",
          "data": {
            "text/plain": [
              "NumericColumn(key='numeric', shape=(4,), default_value=None, dtype=tf.float32, normalizer_fn=functools.partial(<function normalize_numeric_data at 0x7f9cb8c73e18>, mean=array([29.631,  0.545,  0.38 , 34.385]), std=array([12.512,  1.151,  0.793, 54.598])))"
            ]
          },
          "metadata": {
            "tags": []
          },
          "execution_count": 61
        }
      ]
    },
    {
      "cell_type": "code",
      "metadata": {
        "id": "NICtpFZ4RCwd",
        "colab_type": "code",
        "outputId": "13011a75-924f-4ddf-a937-0f6a35ad9ed1",
        "colab": {
          "base_uri": "https://localhost:8080/",
          "height": 119
        }
      },
      "source": [
        "example_batch['numeric']\n"
      ],
      "execution_count": 0,
      "outputs": [
        {
          "output_type": "execute_result",
          "data": {
            "text/plain": [
              "<tf.Tensor: shape=(5, 4), dtype=float32, numpy=\n",
              "array([[  4.   ,   4.   ,   2.   ,  31.275],\n",
              "       [ 32.   ,   0.   ,   0.   ,   8.05 ],\n",
              "       [ 71.   ,   0.   ,   0.   ,  34.654],\n",
              "       [ 19.   ,   3.   ,   2.   , 263.   ],\n",
              "       [ 28.   ,   1.   ,   0.   ,  15.5  ]], dtype=float32)>"
            ]
          },
          "metadata": {
            "tags": []
          },
          "execution_count": 62
        }
      ]
    },
    {
      "cell_type": "code",
      "metadata": {
        "id": "QPkl6ZprRCy7",
        "colab_type": "code",
        "outputId": "63f8d755-7bbc-49ee-a27d-cf61d02dc984",
        "colab": {
          "base_uri": "https://localhost:8080/",
          "height": 102
        }
      },
      "source": [
        "numeric_layer = tf.keras.layers.DenseFeatures(numeric_columns)\n",
        "numeric_layer(example_batch).numpy()"
      ],
      "execution_count": 0,
      "outputs": [
        {
          "output_type": "execute_result",
          "data": {
            "text/plain": [
              "array([[-2.049,  3.001,  2.043, -0.057],\n",
              "       [ 0.189, -0.474, -0.479, -0.482],\n",
              "       [ 3.306, -0.474, -0.479,  0.005],\n",
              "       [-0.85 ,  2.132,  2.043,  4.187],\n",
              "       [-0.13 ,  0.395, -0.479, -0.346]], dtype=float32)"
            ]
          },
          "metadata": {
            "tags": []
          },
          "execution_count": 63
        }
      ]
    },
    {
      "cell_type": "code",
      "metadata": {
        "id": "CObO-KtYRC1k",
        "colab_type": "code",
        "colab": {}
      },
      "source": [
        "CATEGORIES = {\n",
        "    'sex': ['male', 'female'],\n",
        "    'class' : ['First', 'Second', 'Third'],\n",
        "    'deck' : ['A', 'B', 'C', 'D', 'E', 'F', 'G', 'H', 'I', 'J'],\n",
        "    'embark_town' : ['Cherbourg', 'Southhampton', 'Queenstown'],\n",
        "    'alone' : ['y', 'n']\n",
        "}\n"
      ],
      "execution_count": 0,
      "outputs": []
    },
    {
      "cell_type": "code",
      "metadata": {
        "id": "-3EFsZfdRC44",
        "colab_type": "code",
        "colab": {}
      },
      "source": [
        "categorical_columns = []\n",
        "for feature, vocab in CATEGORIES.items():\n",
        "  cat_col = tf.feature_column.categorical_column_with_vocabulary_list(\n",
        "        key=feature, vocabulary_list=vocab)\n",
        "  categorical_columns.append(tf.feature_column.indicator_column(cat_col))"
      ],
      "execution_count": 0,
      "outputs": []
    },
    {
      "cell_type": "code",
      "metadata": {
        "id": "P4Q90m2ER63Q",
        "colab_type": "code",
        "outputId": "91d2cbdb-b32e-4f65-a56e-70e94f23173b",
        "colab": {
          "base_uri": "https://localhost:8080/",
          "height": 122
        }
      },
      "source": [
        "categorical_columns\n"
      ],
      "execution_count": 0,
      "outputs": [
        {
          "output_type": "execute_result",
          "data": {
            "text/plain": [
              "[IndicatorColumn(categorical_column=VocabularyListCategoricalColumn(key='sex', vocabulary_list=('male', 'female'), dtype=tf.string, default_value=-1, num_oov_buckets=0)),\n",
              " IndicatorColumn(categorical_column=VocabularyListCategoricalColumn(key='class', vocabulary_list=('First', 'Second', 'Third'), dtype=tf.string, default_value=-1, num_oov_buckets=0)),\n",
              " IndicatorColumn(categorical_column=VocabularyListCategoricalColumn(key='deck', vocabulary_list=('A', 'B', 'C', 'D', 'E', 'F', 'G', 'H', 'I', 'J'), dtype=tf.string, default_value=-1, num_oov_buckets=0)),\n",
              " IndicatorColumn(categorical_column=VocabularyListCategoricalColumn(key='embark_town', vocabulary_list=('Cherbourg', 'Southhampton', 'Queenstown'), dtype=tf.string, default_value=-1, num_oov_buckets=0)),\n",
              " IndicatorColumn(categorical_column=VocabularyListCategoricalColumn(key='alone', vocabulary_list=('y', 'n'), dtype=tf.string, default_value=-1, num_oov_buckets=0))]"
            ]
          },
          "metadata": {
            "tags": []
          },
          "execution_count": 66
        }
      ]
    },
    {
      "cell_type": "code",
      "metadata": {
        "id": "cit-E9PCR658",
        "colab_type": "code",
        "outputId": "7f4f0f63-5c82-425d-d486-c76b25386713",
        "colab": {
          "base_uri": "https://localhost:8080/",
          "height": 156
        }
      },
      "source": [
        "categorical_layer = tf.keras.layers.DenseFeatures(categorical_columns)\n",
        "print(categorical_layer(example_batch).numpy()[0])"
      ],
      "execution_count": 0,
      "outputs": [
        {
          "output_type": "stream",
          "text": [
            "WARNING:tensorflow:From /usr/local/lib/python3.6/dist-packages/tensorflow_core/python/feature_column/feature_column_v2.py:4266: IndicatorColumn._variable_shape (from tensorflow.python.feature_column.feature_column_v2) is deprecated and will be removed in a future version.\n",
            "Instructions for updating:\n",
            "The old _FeatureColumn APIs are being deprecated. Please use the new FeatureColumn APIs instead.\n",
            "WARNING:tensorflow:From /usr/local/lib/python3.6/dist-packages/tensorflow_core/python/feature_column/feature_column_v2.py:4321: VocabularyListCategoricalColumn._num_buckets (from tensorflow.python.feature_column.feature_column_v2) is deprecated and will be removed in a future version.\n",
            "Instructions for updating:\n",
            "The old _FeatureColumn APIs are being deprecated. Please use the new FeatureColumn APIs instead.\n",
            "[0. 1. 0. 0. 1. 0. 0. 0. 0. 0. 0. 0. 0. 0. 0. 0. 0. 0. 1. 0.]\n"
          ],
          "name": "stdout"
        }
      ]
    },
    {
      "cell_type": "code",
      "metadata": {
        "id": "AaQGNeNDR682",
        "colab_type": "code",
        "colab": {}
      },
      "source": [
        "preprocessing_layer = tf.keras.layers.DenseFeatures(categorical_columns+numeric_columns)"
      ],
      "execution_count": 0,
      "outputs": []
    },
    {
      "cell_type": "code",
      "metadata": {
        "id": "sfX8OMKsR6_f",
        "colab_type": "code",
        "outputId": "1aa36e12-e82c-45a8-d388-ceb38673a651",
        "colab": {
          "base_uri": "https://localhost:8080/",
          "height": 68
        }
      },
      "source": [
        "print(preprocessing_layer(example_batch).numpy()[0])\n"
      ],
      "execution_count": 0,
      "outputs": [
        {
          "output_type": "stream",
          "text": [
            "[ 0.     1.     0.     0.     1.     0.     0.     0.     0.     0.\n",
            "  0.     0.     0.     0.     0.     0.     0.     0.    -2.049  3.001\n",
            "  2.043 -0.057  1.     0.   ]\n"
          ],
          "name": "stdout"
        }
      ]
    },
    {
      "cell_type": "code",
      "metadata": {
        "id": "AFeg2oYGSmIj",
        "colab_type": "code",
        "colab": {}
      },
      "source": [
        "model = tf.keras.Sequential([\n",
        "  preprocessing_layer,\n",
        "  tf.keras.layers.Dense(128, activation='relu'),\n",
        "  tf.keras.layers.Dense(128, activation='relu'),\n",
        "  tf.keras.layers.Dense(1),\n",
        "])\n",
        "\n",
        "model.compile(\n",
        "    loss=tf.keras.losses.BinaryCrossentropy(from_logits=True),\n",
        "    optimizer='adam',\n",
        "    metrics=['accuracy'])"
      ],
      "execution_count": 0,
      "outputs": []
    },
    {
      "cell_type": "code",
      "metadata": {
        "id": "LxKRQCitSvjW",
        "colab_type": "code",
        "colab": {}
      },
      "source": [
        "train_data = packed_train_data.shuffle(500)\n",
        "test_data = packed_test_data"
      ],
      "execution_count": 0,
      "outputs": []
    },
    {
      "cell_type": "code",
      "metadata": {
        "id": "8zewdV1ASylX",
        "colab_type": "code",
        "outputId": "b6f832bf-c091-45ec-8c44-2d9a08076b85",
        "colab": {
          "base_uri": "https://localhost:8080/",
          "height": 734
        }
      },
      "source": [
        "model.fit(train_data, epochs=20)\n"
      ],
      "execution_count": 0,
      "outputs": [
        {
          "output_type": "stream",
          "text": [
            "Epoch 1/20\n",
            "126/126 [==============================] - 1s 10ms/step - loss: 0.5043 - accuracy: 0.7257\n",
            "Epoch 2/20\n",
            "126/126 [==============================] - 0s 2ms/step - loss: 0.4183 - accuracy: 0.8102\n",
            "Epoch 3/20\n",
            "126/126 [==============================] - 0s 3ms/step - loss: 0.3961 - accuracy: 0.8278\n",
            "Epoch 4/20\n",
            "126/126 [==============================] - 0s 2ms/step - loss: 0.3983 - accuracy: 0.8150\n",
            "Epoch 5/20\n",
            "126/126 [==============================] - 0s 2ms/step - loss: 0.3825 - accuracy: 0.8405\n",
            "Epoch 6/20\n",
            "126/126 [==============================] - 0s 3ms/step - loss: 0.3822 - accuracy: 0.8341\n",
            "Epoch 7/20\n",
            "126/126 [==============================] - 0s 3ms/step - loss: 0.3634 - accuracy: 0.8485\n",
            "Epoch 8/20\n",
            "126/126 [==============================] - 0s 3ms/step - loss: 0.3574 - accuracy: 0.8437\n",
            "Epoch 9/20\n",
            "126/126 [==============================] - 0s 3ms/step - loss: 0.3563 - accuracy: 0.8373\n",
            "Epoch 10/20\n",
            "126/126 [==============================] - 0s 3ms/step - loss: 0.3516 - accuracy: 0.8501\n",
            "Epoch 11/20\n",
            "126/126 [==============================] - 0s 3ms/step - loss: 0.3467 - accuracy: 0.8517\n",
            "Epoch 12/20\n",
            "126/126 [==============================] - 0s 3ms/step - loss: 0.3322 - accuracy: 0.8533\n",
            "Epoch 13/20\n",
            "126/126 [==============================] - 0s 2ms/step - loss: 0.3403 - accuracy: 0.8533\n",
            "Epoch 14/20\n",
            "126/126 [==============================] - 0s 3ms/step - loss: 0.3304 - accuracy: 0.8565\n",
            "Epoch 15/20\n",
            "126/126 [==============================] - 0s 3ms/step - loss: 0.3343 - accuracy: 0.8581\n",
            "Epoch 16/20\n",
            "126/126 [==============================] - 0s 3ms/step - loss: 0.3202 - accuracy: 0.8612\n",
            "Epoch 17/20\n",
            "126/126 [==============================] - 0s 3ms/step - loss: 0.3130 - accuracy: 0.8628\n",
            "Epoch 18/20\n",
            "126/126 [==============================] - 0s 3ms/step - loss: 0.3079 - accuracy: 0.8644\n",
            "Epoch 19/20\n",
            "126/126 [==============================] - 0s 3ms/step - loss: 0.3112 - accuracy: 0.8676\n",
            "Epoch 20/20\n",
            "126/126 [==============================] - 0s 3ms/step - loss: 0.3107 - accuracy: 0.8628\n"
          ],
          "name": "stdout"
        },
        {
          "output_type": "execute_result",
          "data": {
            "text/plain": [
              "<tensorflow.python.keras.callbacks.History at 0x7f9cb8abd4e0>"
            ]
          },
          "metadata": {
            "tags": []
          },
          "execution_count": 72
        }
      ]
    },
    {
      "cell_type": "code",
      "metadata": {
        "id": "dHUGMsqxSyoF",
        "colab_type": "code",
        "outputId": "48ed5126-34f6-444b-f49b-715c79a7db98",
        "colab": {
          "base_uri": "https://localhost:8080/",
          "height": 68
        }
      },
      "source": [
        "test_loss, test_accuracy = model.evaluate(test_data)\n",
        "\n",
        "print('\\n\\nTest Loss {}, Test Accuracy {}'.format(test_loss, test_accuracy))"
      ],
      "execution_count": 0,
      "outputs": [
        {
          "output_type": "stream",
          "text": [
            "     53/Unknown - 0s 8ms/step - loss: 0.4651 - accuracy: 0.8447\n",
            "\n",
            "Test Loss 0.4651308541168582, Test Accuracy 0.8446969985961914\n"
          ],
          "name": "stdout"
        }
      ]
    },
    {
      "cell_type": "code",
      "metadata": {
        "id": "HNfRt-8BSyq9",
        "colab_type": "code",
        "outputId": "9b13407d-57a1-40ee-c55e-c9af8963a20f",
        "colab": {
          "base_uri": "https://localhost:8080/",
          "height": 102
        }
      },
      "source": [
        "predictions = model.predict(test_data)\n",
        "\n",
        "# Show some results\n",
        "for prediction, survived in zip(predictions[:10], list(test_data)[0][1][:10]):\n",
        "  print(\"Predicted survival: {:.2%}\".format(prediction[0]),\n",
        "        \" | Actual outcome: \",\n",
        "        (\"SURVIVED\" if bool(survived) else \"DIED\"))\n"
      ],
      "execution_count": 0,
      "outputs": [
        {
          "output_type": "stream",
          "text": [
            "Predicted survival: -28.52%  | Actual outcome:  SURVIVED\n",
            "Predicted survival: -197.87%  | Actual outcome:  SURVIVED\n",
            "Predicted survival: 73.98%  | Actual outcome:  SURVIVED\n",
            "Predicted survival: 175.77%  | Actual outcome:  DIED\n",
            "Predicted survival: -123.52%  | Actual outcome:  DIED\n"
          ],
          "name": "stdout"
        }
      ]
    },
    {
      "cell_type": "markdown",
      "metadata": {
        "id": "Nq0RwP1TTVJr",
        "colab_type": "text"
      },
      "source": [
        "#TFRecord and tf.Example\n"
      ]
    },
    {
      "cell_type": "code",
      "metadata": {
        "id": "dM4pAL5UTX2E",
        "colab_type": "code",
        "colab": {
          "base_uri": "https://localhost:8080/",
          "height": 121
        },
        "outputId": "e6585e78-66d1-4777-810d-2527af1a9b88"
      },
      "source": [
        "from __future__ import absolute_import, division, print_function, unicode_literals\n",
        "\n",
        "try:\n",
        "  # %tensorflow_version only exists in Colab.\n",
        "  !pip install -q tf-nightly\n",
        "except Exception:\n",
        "  pass\n",
        "import tensorflow as tf\n",
        "\n",
        "import numpy as np\n",
        "import IPython.display as display"
      ],
      "execution_count": 1,
      "outputs": [
        {
          "output_type": "stream",
          "text": [
            "\u001b[K     |████████████████████████████████| 511.7MB 19kB/s \n",
            "\u001b[K     |████████████████████████████████| 2.8MB 43.9MB/s \n",
            "\u001b[K     |████████████████████████████████| 2.9MB 50.6MB/s \n",
            "\u001b[K     |████████████████████████████████| 460kB 42.8MB/s \n",
            "\u001b[K     |████████████████████████████████| 778kB 48.7MB/s \n",
            "\u001b[31mERROR: tensorflow 1.15.0 has requirement gast==0.2.2, but you'll have gast 0.3.3 which is incompatible.\u001b[0m\n",
            "\u001b[?25h"
          ],
          "name": "stdout"
        }
      ]
    },
    {
      "cell_type": "code",
      "metadata": {
        "id": "MX9yUwviXua6",
        "colab_type": "code",
        "colab": {}
      },
      "source": [
        "def _byte_feature(value):\n",
        "  if isinstance(value, type(tf.constant(0))):\n",
        "    value = value.numpy()\n",
        "  return tf.train.Feature(bytes_list=tf.train.BytesList(value=[value]))\n",
        "\n",
        "def _float_feature(value):\n",
        "  return tf.train.Feature(float_list=tf.train.FloatList(value=[value]))\n",
        "\n",
        "def _int64_feature(value):\n",
        "  return tf.train.Feature(int64_list=tf.train.Int64List(value=[value]))\n"
      ],
      "execution_count": 0,
      "outputs": []
    },
    {
      "cell_type": "code",
      "metadata": {
        "id": "iNbR3FrVXueG",
        "colab_type": "code",
        "colab": {
          "base_uri": "https://localhost:8080/",
          "height": 363
        },
        "outputId": "ea3a26b0-9560-466b-a5a9-ec0fba581e97"
      },
      "source": [
        "print(_byte_feature(b'test_string'))\n",
        "print(_byte_feature(u'test_bytes'.encode('utf-8')))\n",
        "\n",
        "print(_float_feature(np.exp(1)))\n",
        "\n",
        "print(_int64_feature(True))\n",
        "print(_int64_feature(1))"
      ],
      "execution_count": 5,
      "outputs": [
        {
          "output_type": "stream",
          "text": [
            "bytes_list {\n",
            "  value: \"test_string\"\n",
            "}\n",
            "\n",
            "bytes_list {\n",
            "  value: \"test_bytes\"\n",
            "}\n",
            "\n",
            "float_list {\n",
            "  value: 2.7182817459106445\n",
            "}\n",
            "\n",
            "int64_list {\n",
            "  value: 1\n",
            "}\n",
            "\n",
            "int64_list {\n",
            "  value: 1\n",
            "}\n",
            "\n"
          ],
          "name": "stdout"
        }
      ]
    },
    {
      "cell_type": "code",
      "metadata": {
        "id": "aEWX0HL7Xugs",
        "colab_type": "code",
        "colab": {
          "base_uri": "https://localhost:8080/",
          "height": 35
        },
        "outputId": "f92bc7e2-c8ff-4ee1-cda4-416402a5d5ec"
      },
      "source": [
        "feature = _float_feature(np.exp(1))\n",
        "feature.SerializeToString()"
      ],
      "execution_count": 8,
      "outputs": [
        {
          "output_type": "execute_result",
          "data": {
            "text/plain": [
              "b'\\x12\\x06\\n\\x04T\\xf8-@'"
            ]
          },
          "metadata": {
            "tags": []
          },
          "execution_count": 8
        }
      ]
    },
    {
      "cell_type": "code",
      "metadata": {
        "id": "K5n-b2XDXujt",
        "colab_type": "code",
        "colab": {}
      },
      "source": [
        "n_observation = int(1e4)\n",
        "\n",
        "feature0 = np.random.choice([False, True], n_observation)\n",
        "\n",
        "feature1 = np.random.randint(0, 5, n_observation)\n",
        "\n",
        "strings = np.array([b'cat', b'dog', b'chicken', b'horse', b'goat'])\n",
        "feature2 = strings[feature1]\n",
        "\n",
        "feature3 = np.random.randn(n_observation)"
      ],
      "execution_count": 0,
      "outputs": []
    },
    {
      "cell_type": "code",
      "metadata": {
        "id": "hnmVEZnpTX41",
        "colab_type": "code",
        "colab": {}
      },
      "source": [
        "def serialize_example(feature0, feature1, feature2, feature3):\n",
        "  feature = {\n",
        "      'feature0' : _int64_feature(feature0),\n",
        "      'feature1' : _int64_feature(feature1),\n",
        "      'feature2' : _byte_feature(feature2),\n",
        "      'feature3' : _float_feature(feature3),\n",
        "  }\n",
        "\n",
        "  example_proto = tf.train.Example(features=tf.train.Features(feature=feature))\n",
        "  return example_proto.SerializeToString()"
      ],
      "execution_count": 0,
      "outputs": []
    },
    {
      "cell_type": "code",
      "metadata": {
        "id": "IGTrnBduTX71",
        "colab_type": "code",
        "colab": {
          "base_uri": "https://localhost:8080/",
          "height": 55
        },
        "outputId": "71d2589f-2e22-41c2-b013-0c9fffd90f4e"
      },
      "source": [
        "example_observation = []\n",
        "serialized_example = serialize_example(False, 4, b'goat', 0.9876)\n",
        "serialized_example"
      ],
      "execution_count": 17,
      "outputs": [
        {
          "output_type": "execute_result",
          "data": {
            "text/plain": [
              "b'\\nR\\n\\x14\\n\\x08feature3\\x12\\x08\\x12\\x06\\n\\x04[\\xd3|?\\n\\x11\\n\\x08feature0\\x12\\x05\\x1a\\x03\\n\\x01\\x00\\n\\x11\\n\\x08feature1\\x12\\x05\\x1a\\x03\\n\\x01\\x04\\n\\x14\\n\\x08feature2\\x12\\x08\\n\\x06\\n\\x04goat'"
            ]
          },
          "metadata": {
            "tags": []
          },
          "execution_count": 17
        }
      ]
    },
    {
      "cell_type": "code",
      "metadata": {
        "id": "bzw3lTWWTYDp",
        "colab_type": "code",
        "colab": {
          "base_uri": "https://localhost:8080/",
          "height": 605
        },
        "outputId": "b2675237-d4fd-4374-9e21-c93248567337"
      },
      "source": [
        "example_proto = tf.train.Example.FromString(serialized_example)\n",
        "example_proto"
      ],
      "execution_count": 18,
      "outputs": [
        {
          "output_type": "execute_result",
          "data": {
            "text/plain": [
              "features {\n",
              "  feature {\n",
              "    key: \"feature0\"\n",
              "    value {\n",
              "      int64_list {\n",
              "        value: 0\n",
              "      }\n",
              "    }\n",
              "  }\n",
              "  feature {\n",
              "    key: \"feature1\"\n",
              "    value {\n",
              "      int64_list {\n",
              "        value: 4\n",
              "      }\n",
              "    }\n",
              "  }\n",
              "  feature {\n",
              "    key: \"feature2\"\n",
              "    value {\n",
              "      bytes_list {\n",
              "        value: \"goat\"\n",
              "      }\n",
              "    }\n",
              "  }\n",
              "  feature {\n",
              "    key: \"feature3\"\n",
              "    value {\n",
              "      float_list {\n",
              "        value: 0.9876000285148621\n",
              "      }\n",
              "    }\n",
              "  }\n",
              "}"
            ]
          },
          "metadata": {
            "tags": []
          },
          "execution_count": 18
        }
      ]
    },
    {
      "cell_type": "code",
      "metadata": {
        "id": "8ZyV8UypTYGw",
        "colab_type": "code",
        "colab": {
          "base_uri": "https://localhost:8080/",
          "height": 35
        },
        "outputId": "042b5f6c-552f-49ab-bd4c-9ed2b4f796c4"
      },
      "source": [
        "tf.data.Dataset.from_tensor_slices(feature1)"
      ],
      "execution_count": 19,
      "outputs": [
        {
          "output_type": "execute_result",
          "data": {
            "text/plain": [
              "<TensorSliceDataset shapes: (), types: tf.int64>"
            ]
          },
          "metadata": {
            "tags": []
          },
          "execution_count": 19
        }
      ]
    },
    {
      "cell_type": "code",
      "metadata": {
        "id": "DWTzS3WETYJT",
        "colab_type": "code",
        "colab": {
          "base_uri": "https://localhost:8080/",
          "height": 35
        },
        "outputId": "802ce3f3-d292-45be-c333-28fa2c9492a3"
      },
      "source": [
        "features_dataset = tf.data.Dataset.from_tensor_slices((feature0, feature1, feature2, feature3))\n",
        "features_dataset"
      ],
      "execution_count": 20,
      "outputs": [
        {
          "output_type": "execute_result",
          "data": {
            "text/plain": [
              "<TensorSliceDataset shapes: ((), (), (), ()), types: (tf.bool, tf.int64, tf.string, tf.float64)>"
            ]
          },
          "metadata": {
            "tags": []
          },
          "execution_count": 20
        }
      ]
    },
    {
      "cell_type": "code",
      "metadata": {
        "id": "jRb44UMtTYMn",
        "colab_type": "code",
        "colab": {
          "base_uri": "https://localhost:8080/",
          "height": 86
        },
        "outputId": "9f6e9ab1-27d2-427f-8c89-27f645e1d8a5"
      },
      "source": [
        "for f0,f1,f2,f3 in features_dataset.take(1):\n",
        "  print(f0)\n",
        "  print(f1)\n",
        "  print(f2)\n",
        "  print(f3)"
      ],
      "execution_count": 21,
      "outputs": [
        {
          "output_type": "stream",
          "text": [
            "tf.Tensor(True, shape=(), dtype=bool)\n",
            "tf.Tensor(1, shape=(), dtype=int64)\n",
            "tf.Tensor(b'dog', shape=(), dtype=string)\n",
            "tf.Tensor(1.4215122339951562, shape=(), dtype=float64)\n"
          ],
          "name": "stdout"
        }
      ]
    },
    {
      "cell_type": "code",
      "metadata": {
        "id": "-m0OSm0yk829",
        "colab_type": "code",
        "colab": {}
      },
      "source": [
        "def tf_serialize_example(f0,f1,f2,f3):\n",
        "  tf_string = tf.py_function(\n",
        "    serialize_example,\n",
        "    (f0,f1,f2,f3),  # pass these args to the above function.\n",
        "    tf.string)      # the return type is `tf.string`.\n",
        "  return tf.reshape(tf_string, ()) # The result is a scalar"
      ],
      "execution_count": 0,
      "outputs": []
    },
    {
      "cell_type": "code",
      "metadata": {
        "id": "nowSsj-3k85v",
        "colab_type": "code",
        "colab": {
          "base_uri": "https://localhost:8080/",
          "height": 55
        },
        "outputId": "65d37c00-3222-4709-d172-b380d67cf0f2"
      },
      "source": [
        "tf_serialize_example(f0,f1,f2,f3)"
      ],
      "execution_count": 23,
      "outputs": [
        {
          "output_type": "execute_result",
          "data": {
            "text/plain": [
              "<tf.Tensor: shape=(), dtype=string, numpy=b'\\nQ\\n\\x14\\n\\x08feature3\\x12\\x08\\x12\\x06\\n\\x04\\x1d\\xf4\\xb5?\\n\\x11\\n\\x08feature0\\x12\\x05\\x1a\\x03\\n\\x01\\x01\\n\\x11\\n\\x08feature1\\x12\\x05\\x1a\\x03\\n\\x01\\x01\\n\\x13\\n\\x08feature2\\x12\\x07\\n\\x05\\n\\x03dog'>"
            ]
          },
          "metadata": {
            "tags": []
          },
          "execution_count": 23
        }
      ]
    },
    {
      "cell_type": "code",
      "metadata": {
        "id": "T_gvEbilk88X",
        "colab_type": "code",
        "colab": {
          "base_uri": "https://localhost:8080/",
          "height": 35
        },
        "outputId": "0c4c51e4-528f-4d3d-c7da-8fd1f7d7fa32"
      },
      "source": [
        "serialized_features_dataset = features_dataset.map(tf_serialize_example)\n",
        "serialized_features_dataset"
      ],
      "execution_count": 24,
      "outputs": [
        {
          "output_type": "execute_result",
          "data": {
            "text/plain": [
              "<MapDataset shapes: (), types: tf.string>"
            ]
          },
          "metadata": {
            "tags": []
          },
          "execution_count": 24
        }
      ]
    },
    {
      "cell_type": "code",
      "metadata": {
        "id": "QMkfGS2ck8_P",
        "colab_type": "code",
        "colab": {}
      },
      "source": [
        "def generator():\n",
        "  for features in features_dataset:\n",
        "    yield serialize_example(*features)"
      ],
      "execution_count": 0,
      "outputs": []
    },
    {
      "cell_type": "code",
      "metadata": {
        "id": "mlcAaFjLk9B2",
        "colab_type": "code",
        "colab": {}
      },
      "source": [
        "serialized_features_dataset = tf.data.Dataset.from_generator(\n",
        "    generator, output_types=tf.string, output_shapes=())"
      ],
      "execution_count": 0,
      "outputs": []
    },
    {
      "cell_type": "code",
      "metadata": {
        "id": "GBaOdsrkk9Ed",
        "colab_type": "code",
        "colab": {
          "base_uri": "https://localhost:8080/",
          "height": 35
        },
        "outputId": "bfeb3f9b-fca1-4fd2-afa5-bec60e73cbe7"
      },
      "source": [
        "serialized_features_dataset"
      ],
      "execution_count": 27,
      "outputs": [
        {
          "output_type": "execute_result",
          "data": {
            "text/plain": [
              "<FlatMapDataset shapes: (), types: tf.string>"
            ]
          },
          "metadata": {
            "tags": []
          },
          "execution_count": 27
        }
      ]
    },
    {
      "cell_type": "code",
      "metadata": {
        "id": "bOKYoXBWk9G6",
        "colab_type": "code",
        "colab": {}
      },
      "source": [
        "filename = 'test.tfrecord'\n",
        "writer = tf.data.experimental.TFRecordWriter(filename)\n",
        "writer.write(serialized_features_dataset)"
      ],
      "execution_count": 0,
      "outputs": []
    },
    {
      "cell_type": "code",
      "metadata": {
        "id": "lFGyPk-ZlKL3",
        "colab_type": "code",
        "colab": {
          "base_uri": "https://localhost:8080/",
          "height": 35
        },
        "outputId": "f5ac917e-8561-4957-f4c3-39ebf04179dc"
      },
      "source": [
        "filenames = [filename]\n",
        "raw_dataset = tf.data.TFRecordDataset(filenames)\n",
        "raw_dataset"
      ],
      "execution_count": 29,
      "outputs": [
        {
          "output_type": "execute_result",
          "data": {
            "text/plain": [
              "<TFRecordDatasetV2 shapes: (), types: tf.string>"
            ]
          },
          "metadata": {
            "tags": []
          },
          "execution_count": 29
        }
      ]
    },
    {
      "cell_type": "code",
      "metadata": {
        "id": "GAU3mGwDlKOp",
        "colab_type": "code",
        "colab": {
          "base_uri": "https://localhost:8080/",
          "height": 210
        },
        "outputId": "3db83dd6-e346-48f7-94a2-c2ae065b3ff1"
      },
      "source": [
        "for raw_record in raw_dataset.take(10):\n",
        "  print(repr(raw_record))"
      ],
      "execution_count": 30,
      "outputs": [
        {
          "output_type": "stream",
          "text": [
            "<tf.Tensor: shape=(), dtype=string, numpy=b'\\nQ\\n\\x13\\n\\x08feature2\\x12\\x07\\n\\x05\\n\\x03dog\\n\\x14\\n\\x08feature3\\x12\\x08\\x12\\x06\\n\\x04\\x1d\\xf4\\xb5?\\n\\x11\\n\\x08feature0\\x12\\x05\\x1a\\x03\\n\\x01\\x01\\n\\x11\\n\\x08feature1\\x12\\x05\\x1a\\x03\\n\\x01\\x01'>\n",
            "<tf.Tensor: shape=(), dtype=string, numpy=b'\\nR\\n\\x11\\n\\x08feature0\\x12\\x05\\x1a\\x03\\n\\x01\\x01\\n\\x11\\n\\x08feature1\\x12\\x05\\x1a\\x03\\n\\x01\\x04\\n\\x14\\n\\x08feature2\\x12\\x08\\n\\x06\\n\\x04goat\\n\\x14\\n\\x08feature3\\x12\\x08\\x12\\x06\\n\\x04\\xf5\\xce\\x9f?'>\n",
            "<tf.Tensor: shape=(), dtype=string, numpy=b'\\nQ\\n\\x11\\n\\x08feature0\\x12\\x05\\x1a\\x03\\n\\x01\\x00\\n\\x11\\n\\x08feature1\\x12\\x05\\x1a\\x03\\n\\x01\\x01\\n\\x13\\n\\x08feature2\\x12\\x07\\n\\x05\\n\\x03dog\\n\\x14\\n\\x08feature3\\x12\\x08\\x12\\x06\\n\\x04\\x0e\\x8at?'>\n",
            "<tf.Tensor: shape=(), dtype=string, numpy=b'\\nS\\n\\x11\\n\\x08feature1\\x12\\x05\\x1a\\x03\\n\\x01\\x03\\n\\x15\\n\\x08feature2\\x12\\t\\n\\x07\\n\\x05horse\\n\\x14\\n\\x08feature3\\x12\\x08\\x12\\x06\\n\\x04|\\x00\\xbb\\xbf\\n\\x11\\n\\x08feature0\\x12\\x05\\x1a\\x03\\n\\x01\\x01'>\n",
            "<tf.Tensor: shape=(), dtype=string, numpy=b'\\nQ\\n\\x11\\n\\x08feature0\\x12\\x05\\x1a\\x03\\n\\x01\\x01\\n\\x11\\n\\x08feature1\\x12\\x05\\x1a\\x03\\n\\x01\\x01\\n\\x13\\n\\x08feature2\\x12\\x07\\n\\x05\\n\\x03dog\\n\\x14\\n\\x08feature3\\x12\\x08\\x12\\x06\\n\\x04\\x87u\\xd6>'>\n",
            "<tf.Tensor: shape=(), dtype=string, numpy=b'\\nU\\n\\x11\\n\\x08feature0\\x12\\x05\\x1a\\x03\\n\\x01\\x01\\n\\x11\\n\\x08feature1\\x12\\x05\\x1a\\x03\\n\\x01\\x02\\n\\x17\\n\\x08feature2\\x12\\x0b\\n\\t\\n\\x07chicken\\n\\x14\\n\\x08feature3\\x12\\x08\\x12\\x06\\n\\x04\\xc0\\xa81\\xbe'>\n",
            "<tf.Tensor: shape=(), dtype=string, numpy=b'\\nQ\\n\\x14\\n\\x08feature3\\x12\\x08\\x12\\x06\\n\\x04/a~?\\n\\x11\\n\\x08feature0\\x12\\x05\\x1a\\x03\\n\\x01\\x00\\n\\x11\\n\\x08feature1\\x12\\x05\\x1a\\x03\\n\\x01\\x01\\n\\x13\\n\\x08feature2\\x12\\x07\\n\\x05\\n\\x03dog'>\n",
            "<tf.Tensor: shape=(), dtype=string, numpy=b'\\nS\\n\\x11\\n\\x08feature0\\x12\\x05\\x1a\\x03\\n\\x01\\x00\\n\\x11\\n\\x08feature1\\x12\\x05\\x1a\\x03\\n\\x01\\x03\\n\\x15\\n\\x08feature2\\x12\\t\\n\\x07\\n\\x05horse\\n\\x14\\n\\x08feature3\\x12\\x08\\x12\\x06\\n\\x04QK\\xf1\\xbf'>\n",
            "<tf.Tensor: shape=(), dtype=string, numpy=b'\\nQ\\n\\x11\\n\\x08feature0\\x12\\x05\\x1a\\x03\\n\\x01\\x01\\n\\x11\\n\\x08feature1\\x12\\x05\\x1a\\x03\\n\\x01\\x01\\n\\x13\\n\\x08feature2\\x12\\x07\\n\\x05\\n\\x03dog\\n\\x14\\n\\x08feature3\\x12\\x08\\x12\\x06\\n\\x04\\xd5;F\\xbe'>\n",
            "<tf.Tensor: shape=(), dtype=string, numpy=b'\\nU\\n\\x11\\n\\x08feature0\\x12\\x05\\x1a\\x03\\n\\x01\\x01\\n\\x11\\n\\x08feature1\\x12\\x05\\x1a\\x03\\n\\x01\\x02\\n\\x17\\n\\x08feature2\\x12\\x0b\\n\\t\\n\\x07chicken\\n\\x14\\n\\x08feature3\\x12\\x08\\x12\\x06\\n\\x04J\\xd5\\xb4?'>\n"
          ],
          "name": "stdout"
        }
      ]
    },
    {
      "cell_type": "code",
      "metadata": {
        "id": "cQg2QV0TlKRS",
        "colab_type": "code",
        "colab": {}
      },
      "source": [
        "feature_description = {\n",
        "    'feature0': tf.io.FixedLenFeature([], tf.int64, default_value=0),\n",
        "    'feature1': tf.io.FixedLenFeature([], tf.int64, default_value=0),\n",
        "    'feature2': tf.io.FixedLenFeature([], tf.string, default_value=''),\n",
        "    'feature3': tf.io.FixedLenFeature([], tf.float32, default_value=0.0),\n",
        "}\n",
        "\n",
        "def _parse_function(example_proto):\n",
        "  # Parse the input `tf.Example` proto using the dictionary above.\n",
        "  return tf.io.parse_single_example(example_proto, feature_description)"
      ],
      "execution_count": 0,
      "outputs": []
    },
    {
      "cell_type": "code",
      "metadata": {
        "id": "0xc1kIH7lKUH",
        "colab_type": "code",
        "colab": {
          "base_uri": "https://localhost:8080/",
          "height": 55
        },
        "outputId": "b37bca3b-916e-4448-b4d2-15d8dcb9053f"
      },
      "source": [
        "parsed_dataset = raw_dataset.map(_parse_function)\n",
        "parsed_dataset"
      ],
      "execution_count": 33,
      "outputs": [
        {
          "output_type": "execute_result",
          "data": {
            "text/plain": [
              "<MapDataset shapes: {feature0: (), feature1: (), feature2: (), feature3: ()}, types: {feature0: tf.int64, feature1: tf.int64, feature2: tf.string, feature3: tf.float32}>"
            ]
          },
          "metadata": {
            "tags": []
          },
          "execution_count": 33
        }
      ]
    },
    {
      "cell_type": "code",
      "metadata": {
        "id": "t6ZSQd5ClQeE",
        "colab_type": "code",
        "colab": {
          "base_uri": "https://localhost:8080/",
          "height": 210
        },
        "outputId": "07f4436a-30b2-4fa7-9e18-d344b55d63d6"
      },
      "source": [
        "for parsed_record in parsed_dataset.take(10):\n",
        "  print(repr(parsed_record))"
      ],
      "execution_count": 34,
      "outputs": [
        {
          "output_type": "stream",
          "text": [
            "{'feature0': <tf.Tensor: shape=(), dtype=int64, numpy=1>, 'feature1': <tf.Tensor: shape=(), dtype=int64, numpy=1>, 'feature2': <tf.Tensor: shape=(), dtype=string, numpy=b'dog'>, 'feature3': <tf.Tensor: shape=(), dtype=float32, numpy=1.4215122>}\n",
            "{'feature0': <tf.Tensor: shape=(), dtype=int64, numpy=1>, 'feature1': <tf.Tensor: shape=(), dtype=int64, numpy=4>, 'feature2': <tf.Tensor: shape=(), dtype=string, numpy=b'goat'>, 'feature3': <tf.Tensor: shape=(), dtype=float32, numpy=1.2485033>}\n",
            "{'feature0': <tf.Tensor: shape=(), dtype=int64, numpy=0>, 'feature1': <tf.Tensor: shape=(), dtype=int64, numpy=1>, 'feature2': <tf.Tensor: shape=(), dtype=string, numpy=b'dog'>, 'feature3': <tf.Tensor: shape=(), dtype=float32, numpy=0.95523155>}\n",
            "{'feature0': <tf.Tensor: shape=(), dtype=int64, numpy=1>, 'feature1': <tf.Tensor: shape=(), dtype=int64, numpy=3>, 'feature2': <tf.Tensor: shape=(), dtype=string, numpy=b'horse'>, 'feature3': <tf.Tensor: shape=(), dtype=float32, numpy=-1.4609523>}\n",
            "{'feature0': <tf.Tensor: shape=(), dtype=int64, numpy=1>, 'feature1': <tf.Tensor: shape=(), dtype=int64, numpy=1>, 'feature2': <tf.Tensor: shape=(), dtype=string, numpy=b'dog'>, 'feature3': <tf.Tensor: shape=(), dtype=float32, numpy=0.4188654>}\n",
            "{'feature0': <tf.Tensor: shape=(), dtype=int64, numpy=1>, 'feature1': <tf.Tensor: shape=(), dtype=int64, numpy=2>, 'feature2': <tf.Tensor: shape=(), dtype=string, numpy=b'chicken'>, 'feature3': <tf.Tensor: shape=(), dtype=float32, numpy=-0.1734953>}\n",
            "{'feature0': <tf.Tensor: shape=(), dtype=int64, numpy=0>, 'feature1': <tf.Tensor: shape=(), dtype=int64, numpy=1>, 'feature2': <tf.Tensor: shape=(), dtype=string, numpy=b'dog'>, 'feature3': <tf.Tensor: shape=(), dtype=float32, numpy=0.9936704>}\n",
            "{'feature0': <tf.Tensor: shape=(), dtype=int64, numpy=0>, 'feature1': <tf.Tensor: shape=(), dtype=int64, numpy=3>, 'feature2': <tf.Tensor: shape=(), dtype=string, numpy=b'horse'>, 'feature3': <tf.Tensor: shape=(), dtype=float32, numpy=-1.885111>}\n",
            "{'feature0': <tf.Tensor: shape=(), dtype=int64, numpy=1>, 'feature1': <tf.Tensor: shape=(), dtype=int64, numpy=1>, 'feature2': <tf.Tensor: shape=(), dtype=string, numpy=b'dog'>, 'feature3': <tf.Tensor: shape=(), dtype=float32, numpy=-0.19358762>}\n",
            "{'feature0': <tf.Tensor: shape=(), dtype=int64, numpy=1>, 'feature1': <tf.Tensor: shape=(), dtype=int64, numpy=2>, 'feature2': <tf.Tensor: shape=(), dtype=string, numpy=b'chicken'>, 'feature3': <tf.Tensor: shape=(), dtype=float32, numpy=1.4127591>}\n"
          ],
          "name": "stdout"
        }
      ]
    },
    {
      "cell_type": "code",
      "metadata": {
        "id": "8BVSNEw5lQgt",
        "colab_type": "code",
        "colab": {}
      },
      "source": [
        "with tf.io.TFRecordWriter(filename) as writer:\n",
        "  for i in range(n_observation):\n",
        "    example = serialize_example(feature0[1], feature1[1], feature2[i], feature3[i])\n",
        "    writer.write(example)"
      ],
      "execution_count": 0,
      "outputs": []
    },
    {
      "cell_type": "code",
      "metadata": {
        "id": "FF4xJ6Aqk9K9",
        "colab_type": "code",
        "colab": {
          "base_uri": "https://localhost:8080/",
          "height": 35
        },
        "outputId": "d39c324c-9a12-4966-fa11-ba304e76bf87"
      },
      "source": [
        "!du -sh {filename}"
      ],
      "execution_count": 36,
      "outputs": [
        {
          "output_type": "stream",
          "text": [
            "984K\ttest.tfrecord\n"
          ],
          "name": "stdout"
        }
      ]
    },
    {
      "cell_type": "code",
      "metadata": {
        "id": "59CBCedbyGf9",
        "colab_type": "code",
        "colab": {
          "base_uri": "https://localhost:8080/",
          "height": 35
        },
        "outputId": "5aa377af-5857-44ef-9c5a-454351c3a8b5"
      },
      "source": [
        "filenames = [filename]\n",
        "raw_dataset = tf.data.TFRecordDataset(filenames)\n",
        "raw_dataset"
      ],
      "execution_count": 37,
      "outputs": [
        {
          "output_type": "execute_result",
          "data": {
            "text/plain": [
              "<TFRecordDatasetV2 shapes: (), types: tf.string>"
            ]
          },
          "metadata": {
            "tags": []
          },
          "execution_count": 37
        }
      ]
    },
    {
      "cell_type": "code",
      "metadata": {
        "id": "sUn890zFyGjA",
        "colab_type": "code",
        "colab": {
          "base_uri": "https://localhost:8080/",
          "height": 622
        },
        "outputId": "d917bd82-bd70-47cb-c00c-cc0e5aa5dd0b"
      },
      "source": [
        "for raw_record in raw_dataset.take(1):\n",
        "  example = tf.train.Example()\n",
        "  example.ParseFromString(raw_record.numpy())\n",
        "  print(example)\n",
        "  "
      ],
      "execution_count": 38,
      "outputs": [
        {
          "output_type": "stream",
          "text": [
            "features {\n",
            "  feature {\n",
            "    key: \"feature0\"\n",
            "    value {\n",
            "      int64_list {\n",
            "        value: 1\n",
            "      }\n",
            "    }\n",
            "  }\n",
            "  feature {\n",
            "    key: \"feature1\"\n",
            "    value {\n",
            "      int64_list {\n",
            "        value: 4\n",
            "      }\n",
            "    }\n",
            "  }\n",
            "  feature {\n",
            "    key: \"feature2\"\n",
            "    value {\n",
            "      bytes_list {\n",
            "        value: \"dog\"\n",
            "      }\n",
            "    }\n",
            "  }\n",
            "  feature {\n",
            "    key: \"feature3\"\n",
            "    value {\n",
            "      float_list {\n",
            "        value: 1.421512246131897\n",
            "      }\n",
            "    }\n",
            "  }\n",
            "}\n",
            "\n"
          ],
          "name": "stdout"
        }
      ]
    },
    {
      "cell_type": "code",
      "metadata": {
        "id": "JgoqDFGuyGlv",
        "colab_type": "code",
        "colab": {
          "base_uri": "https://localhost:8080/",
          "height": 106
        },
        "outputId": "efc05fdc-3f2b-4556-b986-620f09b6ab81"
      },
      "source": [
        "cat_in_snow  = tf.keras.utils.get_file('320px-Felis_catus-cat_on_snow.jpg', 'https://storage.googleapis.com/download.tensorflow.org/example_images/320px-Felis_catus-cat_on_snow.jpg')\n",
        "williamsburg_bridge = tf.keras.utils.get_file('194px-New_East_River_Bridge_from_Brooklyn_det.4a09796u.jpg','https://storage.googleapis.com/download.tensorflow.org/example_images/194px-New_East_River_Bridge_from_Brooklyn_det.4a09796u.jpg')"
      ],
      "execution_count": 39,
      "outputs": [
        {
          "output_type": "stream",
          "text": [
            "Downloading data from https://storage.googleapis.com/download.tensorflow.org/example_images/320px-Felis_catus-cat_on_snow.jpg\n",
            "24576/17858 [=========================================] - 0s 0us/step\n",
            "Downloading data from https://storage.googleapis.com/download.tensorflow.org/example_images/194px-New_East_River_Bridge_from_Brooklyn_det.4a09796u.jpg\n",
            "16384/15477 [===============================] - 0s 0us/step\n"
          ],
          "name": "stdout"
        }
      ]
    },
    {
      "cell_type": "code",
      "metadata": {
        "id": "AzY8Se7_yGoa",
        "colab_type": "code",
        "colab": {
          "base_uri": "https://localhost:8080/",
          "height": 247
        },
        "outputId": "7e5e46c3-d085-467e-e255-3aaa2b4621fd"
      },
      "source": [
        "display.display(display.Image(filename=cat_in_snow))\n",
        "display.display(display.HTML('Image cc-by: <a \"href=https://commons.wikimedia.org/wiki/File:Felis_catus-cat_on_snow.jpg\">Von.grzanka</a>'))"
      ],
      "execution_count": 40,
      "outputs": [
        {
          "output_type": "display_data",
          "data": {
            "image/jpeg": "[encoded data removed]",
            "text/plain": [
              "<IPython.core.display.Image object>"
            ]
          },
          "metadata": {
            "tags": []
          }
        },
        {
          "output_type": "display_data",
          "data": {
            "text/html": [
              "Image cc-by: <a \"href=https://commons.wikimedia.org/wiki/File:Felis_catus-cat_on_snow.jpg\">Von.grzanka</a>"
            ],
            "text/plain": [
              "<IPython.core.display.HTML object>"
            ]
          },
          "metadata": {
            "tags": []
          }
        }
      ]
    },
    {
      "cell_type": "code",
      "metadata": {
        "id": "Lh9QQp-uyGrB",
        "colab_type": "code",
        "colab": {}
      },
      "source": [
        "image_labels = {\n",
        "    cat_in_snow : 0,\n",
        "    williamsburg_bridge : 1,\n",
        "}"
      ],
      "execution_count": 0,
      "outputs": []
    },
    {
      "cell_type": "code",
      "metadata": {
        "id": "fwSmj7gByGtp",
        "colab_type": "code",
        "colab": {
          "base_uri": "https://localhost:8080/",
          "height": 294
        },
        "outputId": "5ddacd61-9566-4982-974f-e0131e5643fc"
      },
      "source": [
        "# This is an example, just using the cat image.\n",
        "image_string = open(cat_in_snow, 'rb').read()\n",
        "\n",
        "label = image_labels[cat_in_snow]\n",
        "\n",
        "# Create a dictionary with features that may be relevant.\n",
        "def image_example(image_string, label):\n",
        "  image_shape = tf.image.decode_jpeg(image_string).shape\n",
        "\n",
        "  feature = {\n",
        "      'height': _int64_feature(image_shape[0]),\n",
        "      'width': _int64_feature(image_shape[1]),\n",
        "      'depth': _int64_feature(image_shape[2]),\n",
        "      'label': _int64_feature(label),\n",
        "      'image_raw': _byte_feature(image_string),\n",
        "  }\n",
        "\n",
        "  return tf.train.Example(features=tf.train.Features(feature=feature))\n",
        "\n",
        "for line in str(image_example(image_string, label)).split('\\n')[:15]:\n",
        "  print(line)\n",
        "print('...')"
      ],
      "execution_count": 43,
      "outputs": [
        {
          "output_type": "stream",
          "text": [
            "features {\n",
            "  feature {\n",
            "    key: \"depth\"\n",
            "    value {\n",
            "      int64_list {\n",
            "        value: 3\n",
            "      }\n",
            "    }\n",
            "  }\n",
            "  feature {\n",
            "    key: \"height\"\n",
            "    value {\n",
            "      int64_list {\n",
            "        value: 213\n",
            "      }\n",
            "...\n"
          ],
          "name": "stdout"
        }
      ]
    },
    {
      "cell_type": "code",
      "metadata": {
        "id": "jplCXHoEyGwR",
        "colab_type": "code",
        "colab": {}
      },
      "source": [
        "# Write the raw image files to `images.tfrecords`.\n",
        "# First, process the two images into `tf.Example` messages.\n",
        "# Then, write to a `.tfrecords` file.\n",
        "record_file = 'images.tfrecords'\n",
        "with tf.io.TFRecordWriter(record_file) as writer:\n",
        "  for filename, label in image_labels.items():\n",
        "    image_string = open(filename, 'rb').read()\n",
        "    tf_example = image_example(image_string, label)\n",
        "    writer.write(tf_example.SerializeToString())"
      ],
      "execution_count": 0,
      "outputs": []
    },
    {
      "cell_type": "code",
      "metadata": {
        "id": "N0EyYcMa0gaI",
        "colab_type": "code",
        "colab": {
          "base_uri": "https://localhost:8080/",
          "height": 35
        },
        "outputId": "04028ec1-c0f2-4474-c254-7e443002a73b"
      },
      "source": [
        "!du -sh {record_file}"
      ],
      "execution_count": 45,
      "outputs": [
        {
          "output_type": "stream",
          "text": [
            "36K\timages.tfrecords\n"
          ],
          "name": "stdout"
        }
      ]
    },
    {
      "cell_type": "code",
      "metadata": {
        "id": "ydhZ9iCe0gcp",
        "colab_type": "code",
        "colab": {
          "base_uri": "https://localhost:8080/",
          "height": 55
        },
        "outputId": "84c14b96-6a7f-4ae5-c9d4-86ba88fec6fd"
      },
      "source": [
        "raw_image_dataset = tf.data.TFRecordDataset('images.tfrecords')\n",
        "\n",
        "# Create a dictionary describing the features.\n",
        "image_feature_description = {\n",
        "    'height': tf.io.FixedLenFeature([], tf.int64),\n",
        "    'width': tf.io.FixedLenFeature([], tf.int64),\n",
        "    'depth': tf.io.FixedLenFeature([], tf.int64),\n",
        "    'label': tf.io.FixedLenFeature([], tf.int64),\n",
        "    'image_raw': tf.io.FixedLenFeature([], tf.string),\n",
        "}\n",
        "\n",
        "def _parse_image_function(example_proto):\n",
        "  # Parse the input tf.Example proto using the dictionary above.\n",
        "  return tf.io.parse_single_example(example_proto, image_feature_description)\n",
        "\n",
        "parsed_image_dataset = raw_image_dataset.map(_parse_image_function)\n",
        "parsed_image_dataset"
      ],
      "execution_count": 46,
      "outputs": [
        {
          "output_type": "execute_result",
          "data": {
            "text/plain": [
              "<MapDataset shapes: {depth: (), height: (), image_raw: (), label: (), width: ()}, types: {depth: tf.int64, height: tf.int64, image_raw: tf.string, label: tf.int64, width: tf.int64}>"
            ]
          },
          "metadata": {
            "tags": []
          },
          "execution_count": 46
        }
      ]
    },
    {
      "cell_type": "code",
      "metadata": {
        "id": "j20pToCm0gfL",
        "colab_type": "code",
        "colab": {
          "base_uri": "https://localhost:8080/",
          "height": 469
        },
        "outputId": "3ad094bc-8920-4bb9-f017-8b5e59472d8a"
      },
      "source": [
        "for image_features in parsed_image_dataset:\n",
        "  image_raw = image_features['image_raw'].numpy()\n",
        "  display.display(display.Image(data=image_raw))"
      ],
      "execution_count": 47,
      "outputs": [
        {
          "output_type": "display_data",
          "data": {
            "image/jpeg": "[encoded data removed]",
            "text/plain": [
              "<IPython.core.display.Image object>"
            ]
          },
          "metadata": {
            "tags": []
          }
        },
        {
          "output_type": "display_data",
          "data": {
            "image/jpeg": "[encoded data removed]",
            "text/plain": [
              "<IPython.core.display.Image object>"
            ]
          },
          "metadata": {
            "tags": []
          }
        }
      ]
    },
    {
      "cell_type": "markdown",
      "metadata": {
        "id": "yJ1Ga3RJTeTw",
        "colab_type": "text"
      },
      "source": [
        "#모델 저장과 복원\n"
      ]
    },
    {
      "cell_type": "code",
      "metadata": {
        "id": "aptUqAOMTkD5",
        "colab_type": "code",
        "colab": {}
      },
      "source": [
        "!pip install -q pyyaml h5py"
      ],
      "execution_count": 0,
      "outputs": []
    },
    {
      "cell_type": "code",
      "metadata": {
        "id": "kLr3pNGtTlbS",
        "colab_type": "code",
        "outputId": "a454a4bf-292d-43d7-f4f4-29a4388cceec",
        "colab": {
          "base_uri": "https://localhost:8080/",
          "height": 34
        }
      },
      "source": [
        "from __future__ import absolute_import, division, print_function, unicode_literals\n",
        "\n",
        "import os\n",
        "\n",
        "import tensorflow as tf\n",
        "from tensorflow import keras\n",
        "\n",
        "print(tf.version.VERSION)"
      ],
      "execution_count": 0,
      "outputs": [
        {
          "output_type": "stream",
          "text": [
            "2.0.0-dev20191002\n"
          ],
          "name": "stdout"
        }
      ]
    },
    {
      "cell_type": "code",
      "metadata": {
        "id": "ySfuxcZVTld5",
        "colab_type": "code",
        "outputId": "97e742ca-9122-4155-b7cc-9dfad4cce297",
        "colab": {
          "base_uri": "https://localhost:8080/",
          "height": 71
        }
      },
      "source": [
        "(train_images, train_labels), (test_images, test_labels) = tf.keras.datasets.mnist.load_data()\n",
        "\n",
        "train_labels = train_labels[:1000]\n",
        "test_labels = test_labels[:1000]\n",
        "\n",
        "train_images = train_images[:1000].reshape(-1, 28 * 28) / 255.0\n",
        "test_images = test_images[:1000].reshape(-1, 28 * 28) / 255.0"
      ],
      "execution_count": 0,
      "outputs": [
        {
          "output_type": "stream",
          "text": [
            "Downloading data from https://storage.googleapis.com/tensorflow/tf-keras-datasets/mnist.npz\n",
            "11493376/11490434 [==============================] - 0s 0us/step\n"
          ],
          "name": "stdout"
        }
      ]
    },
    {
      "cell_type": "code",
      "metadata": {
        "id": "hOXmmcHUTlgq",
        "colab_type": "code",
        "outputId": "6c0890a8-9ed8-4640-a0e4-c5d6c3ca84a9",
        "colab": {
          "base_uri": "https://localhost:8080/",
          "height": 255
        }
      },
      "source": [
        "# Define a simple sequential model\n",
        "def create_model():\n",
        "  model = tf.keras.models.Sequential([\n",
        "    keras.layers.Dense(512, activation='relu', input_shape=(784,)),\n",
        "    keras.layers.Dropout(0.2),\n",
        "    keras.layers.Dense(10)\n",
        "  ])\n",
        "\n",
        "  model.compile(optimizer='adam',\n",
        "                loss=tf.losses.SparseCategoricalCrossentropy(from_logits=True),\n",
        "                metrics=['accuracy'])\n",
        "\n",
        "  return model\n",
        "\n",
        "# Create a basic model instance\n",
        "model = create_model()\n",
        "\n",
        "# Display the model's architecture\n",
        "model.summary()"
      ],
      "execution_count": 0,
      "outputs": [
        {
          "output_type": "stream",
          "text": [
            "Model: \"sequential_9\"\n",
            "_________________________________________________________________\n",
            "Layer (type)                 Output Shape              Param #   \n",
            "=================================================================\n",
            "dense_27 (Dense)             (None, 512)               401920    \n",
            "_________________________________________________________________\n",
            "dropout_2 (Dropout)          (None, 512)               0         \n",
            "_________________________________________________________________\n",
            "dense_28 (Dense)             (None, 10)                5130      \n",
            "=================================================================\n",
            "Total params: 407,050\n",
            "Trainable params: 407,050\n",
            "Non-trainable params: 0\n",
            "_________________________________________________________________\n"
          ],
          "name": "stdout"
        }
      ]
    },
    {
      "cell_type": "code",
      "metadata": {
        "id": "OJql_Wp1TljO",
        "colab_type": "code",
        "outputId": "79ad4632-40b2-4c31-aeca-fed024c9c1f2",
        "colab": {
          "base_uri": "https://localhost:8080/",
          "height": 751
        }
      },
      "source": [
        "checkpoint_path = \"training_1/cp.ckpt\"\n",
        "checkpoint_dir = os.path.dirname(checkpoint_path)\n",
        "\n",
        "# Create a callback that saves the model's weights\n",
        "cp_callback = tf.keras.callbacks.ModelCheckpoint(filepath=checkpoint_path,\n",
        "                                                 save_weights_only=True,\n",
        "                                                 verbose=1)\n",
        "\n",
        "# Train the model with the new callback\n",
        "model.fit(train_images, \n",
        "          train_labels,  \n",
        "          epochs=10,\n",
        "          validation_data=(test_images,test_labels),\n",
        "          callbacks=[cp_callback])  # Pass callback to training\n",
        "\n",
        "# This may generate warnings related to saving the state of the optimizer.\n",
        "# These warnings (and similar warnings throughout this notebook)\n",
        "# are in place to discourage outdated usage, and can be ignored."
      ],
      "execution_count": 0,
      "outputs": [
        {
          "output_type": "stream",
          "text": [
            "Train on 1000 samples, validate on 1000 samples\n",
            "Epoch 1/10\n",
            " 672/1000 [===================>..........] - ETA: 0s - loss: 1.4462 - accuracy: 0.5610\n",
            "Epoch 00001: saving model to training_1/cp.ckpt\n",
            "1000/1000 [==============================] - 1s 611us/sample - loss: 1.1696 - accuracy: 0.6620 - val_loss: 0.7109 - val_accuracy: 0.7970\n",
            "Epoch 2/10\n",
            " 704/1000 [====================>.........] - ETA: 0s - loss: 0.4758 - accuracy: 0.8722\n",
            "Epoch 00002: saving model to training_1/cp.ckpt\n",
            "1000/1000 [==============================] - 0s 252us/sample - loss: 0.4200 - accuracy: 0.8910 - val_loss: 0.5518 - val_accuracy: 0.8340\n",
            "Epoch 3/10\n",
            " 704/1000 [====================>.........] - ETA: 0s - loss: 0.3093 - accuracy: 0.9162\n",
            "Epoch 00003: saving model to training_1/cp.ckpt\n",
            "1000/1000 [==============================] - 0s 255us/sample - loss: 0.2882 - accuracy: 0.9200 - val_loss: 0.4715 - val_accuracy: 0.8440\n",
            "Epoch 4/10\n",
            " 704/1000 [====================>.........] - ETA: 0s - loss: 0.2280 - accuracy: 0.9361\n",
            "Epoch 00004: saving model to training_1/cp.ckpt\n",
            "1000/1000 [==============================] - 0s 256us/sample - loss: 0.2056 - accuracy: 0.9460 - val_loss: 0.4660 - val_accuracy: 0.8490\n",
            "Epoch 5/10\n",
            " 800/1000 [=======================>......] - ETA: 0s - loss: 0.1499 - accuracy: 0.9688\n",
            "Epoch 00005: saving model to training_1/cp.ckpt\n",
            "1000/1000 [==============================] - 0s 239us/sample - loss: 0.1516 - accuracy: 0.9690 - val_loss: 0.4349 - val_accuracy: 0.8570\n",
            "Epoch 6/10\n",
            " 768/1000 [======================>.......] - ETA: 0s - loss: 0.1361 - accuracy: 0.9740\n",
            "Epoch 00006: saving model to training_1/cp.ckpt\n",
            "1000/1000 [==============================] - 0s 244us/sample - loss: 0.1314 - accuracy: 0.9750 - val_loss: 0.4177 - val_accuracy: 0.8670\n",
            "Epoch 7/10\n",
            " 768/1000 [======================>.......] - ETA: 0s - loss: 0.0965 - accuracy: 0.9831\n",
            "Epoch 00007: saving model to training_1/cp.ckpt\n",
            "1000/1000 [==============================] - 0s 243us/sample - loss: 0.0942 - accuracy: 0.9840 - val_loss: 0.4196 - val_accuracy: 0.8650\n",
            "Epoch 8/10\n",
            " 768/1000 [======================>.......] - ETA: 0s - loss: 0.0672 - accuracy: 0.9935\n",
            "Epoch 00008: saving model to training_1/cp.ckpt\n",
            "1000/1000 [==============================] - 0s 241us/sample - loss: 0.0636 - accuracy: 0.9940 - val_loss: 0.4163 - val_accuracy: 0.8700\n",
            "Epoch 9/10\n",
            " 768/1000 [======================>.......] - ETA: 0s - loss: 0.0526 - accuracy: 1.0000\n",
            "Epoch 00009: saving model to training_1/cp.ckpt\n",
            "1000/1000 [==============================] - 0s 238us/sample - loss: 0.0505 - accuracy: 1.0000 - val_loss: 0.4236 - val_accuracy: 0.8580\n",
            "Epoch 10/10\n",
            " 896/1000 [=========================>....] - ETA: 0s - loss: 0.0388 - accuracy: 0.9955\n",
            "Epoch 00010: saving model to training_1/cp.ckpt\n",
            "1000/1000 [==============================] - 0s 276us/sample - loss: 0.0406 - accuracy: 0.9960 - val_loss: 0.4075 - val_accuracy: 0.8690\n"
          ],
          "name": "stdout"
        },
        {
          "output_type": "execute_result",
          "data": {
            "text/plain": [
              "<tensorflow.python.keras.callbacks.History at 0x7f9cb65c4ba8>"
            ]
          },
          "metadata": {
            "tags": []
          },
          "execution_count": 79
        }
      ]
    },
    {
      "cell_type": "code",
      "metadata": {
        "id": "sLGIdaq1Vlzp",
        "colab_type": "code",
        "outputId": "3848151c-8a69-4c6c-ff1e-61c0552348e3",
        "colab": {
          "base_uri": "https://localhost:8080/",
          "height": 34
        }
      },
      "source": [
        "!ls {checkpoint_dir}\n"
      ],
      "execution_count": 0,
      "outputs": [
        {
          "output_type": "stream",
          "text": [
            "checkpoint  cp.ckpt.data-00000-of-00001  cp.ckpt.index\n"
          ],
          "name": "stdout"
        }
      ]
    },
    {
      "cell_type": "code",
      "metadata": {
        "id": "HHhkk7T6VtFN",
        "colab_type": "code",
        "outputId": "09497c09-3f25-4ed4-d5e3-5bd0e578e1df",
        "colab": {
          "base_uri": "https://localhost:8080/",
          "height": 51
        }
      },
      "source": [
        "# Create a basic model instance\n",
        "model = create_model()\n",
        "\n",
        "# Evaluate the model\n",
        "loss, acc = model.evaluate(test_images,  test_labels, verbose=2)\n",
        "print(\"Untrained model, accuracy: {:5.2f}%\".format(100*acc))"
      ],
      "execution_count": 0,
      "outputs": [
        {
          "output_type": "stream",
          "text": [
            "1000/1 - 0s - loss: 2.4272 - accuracy: 0.0870\n",
            "Untrained model, accuracy:  8.70%\n"
          ],
          "name": "stdout"
        }
      ]
    },
    {
      "cell_type": "code",
      "metadata": {
        "id": "4ItRNQUAV5ft",
        "colab_type": "code",
        "outputId": "f1d27535-e70b-4f12-fcf1-04ef49f395e6",
        "colab": {
          "base_uri": "https://localhost:8080/",
          "height": 51
        }
      },
      "source": [
        "# Loads the weights\n",
        "model.load_weights(checkpoint_path)\n",
        "\n",
        "# Re-evaluate the model\n",
        "loss,acc = model.evaluate(test_images,  test_labels, verbose=2)\n",
        "print(\"Restored model, accuracy: {:5.2f}%\".format(100*acc))"
      ],
      "execution_count": 0,
      "outputs": [
        {
          "output_type": "stream",
          "text": [
            "1000/1 - 0s - loss: 0.3669 - accuracy: 0.8690\n",
            "Restored model, accuracy: 86.90%\n"
          ],
          "name": "stdout"
        }
      ]
    },
    {
      "cell_type": "code",
      "metadata": {
        "id": "uYuoGJOiV5ik",
        "colab_type": "code",
        "outputId": "2df1dbfc-bc48-46f7-c2dc-a6c7a5922d71",
        "colab": {
          "base_uri": "https://localhost:8080/",
          "height": 411
        }
      },
      "source": [
        "# Include the epoch in the file name (uses `str.format`)\n",
        "checkpoint_path = \"training_2/cp-{epoch:04d}.ckpt\"\n",
        "checkpoint_dir = os.path.dirname(checkpoint_path)\n",
        "\n",
        "# Create a callback that saves the model's weights every 5 epochs\n",
        "cp_callback = tf.keras.callbacks.ModelCheckpoint(\n",
        "    filepath=checkpoint_path, \n",
        "    verbose=1, \n",
        "    save_weights_only=True,\n",
        "    period=5)\n",
        "\n",
        "# Create a new model instance\n",
        "model = create_model()\n",
        "\n",
        "# Save the weights using the `checkpoint_path` format\n",
        "model.save_weights(checkpoint_path.format(epoch=0))\n",
        "\n",
        "# Train the model with the new callback\n",
        "model.fit(train_images, \n",
        "              train_labels,\n",
        "              epochs=50, \n",
        "              callbacks=[cp_callback],\n",
        "              validation_data=(test_images,test_labels),\n",
        "              verbose=0)"
      ],
      "execution_count": 0,
      "outputs": [
        {
          "output_type": "stream",
          "text": [
            "WARNING:tensorflow:`period` argument is deprecated. Please use `save_freq` to specify the frequency in number of samples seen.\n",
            "\n",
            "Epoch 00005: saving model to training_2/cp-0005.ckpt\n",
            "\n",
            "Epoch 00010: saving model to training_2/cp-0010.ckpt\n",
            "\n",
            "Epoch 00015: saving model to training_2/cp-0015.ckpt\n",
            "\n",
            "Epoch 00020: saving model to training_2/cp-0020.ckpt\n",
            "\n",
            "Epoch 00025: saving model to training_2/cp-0025.ckpt\n",
            "\n",
            "Epoch 00030: saving model to training_2/cp-0030.ckpt\n",
            "\n",
            "Epoch 00035: saving model to training_2/cp-0035.ckpt\n",
            "\n",
            "Epoch 00040: saving model to training_2/cp-0040.ckpt\n",
            "\n",
            "Epoch 00045: saving model to training_2/cp-0045.ckpt\n",
            "\n",
            "Epoch 00050: saving model to training_2/cp-0050.ckpt\n"
          ],
          "name": "stdout"
        },
        {
          "output_type": "execute_result",
          "data": {
            "text/plain": [
              "<tensorflow.python.keras.callbacks.History at 0x7f9cb63ebc18>"
            ]
          },
          "metadata": {
            "tags": []
          },
          "execution_count": 83
        }
      ]
    },
    {
      "cell_type": "code",
      "metadata": {
        "id": "Atwv_j70V5le",
        "colab_type": "code",
        "outputId": "9a214706-a34d-4653-c897-b063fe2f0370",
        "colab": {
          "base_uri": "https://localhost:8080/",
          "height": 221
        }
      },
      "source": [
        "!ls {checkpoint_dir}"
      ],
      "execution_count": 0,
      "outputs": [
        {
          "output_type": "stream",
          "text": [
            "checkpoint\t\t\t  cp-0025.ckpt.index\n",
            "cp-0000.ckpt.data-00000-of-00001  cp-0030.ckpt.data-00000-of-00001\n",
            "cp-0000.ckpt.index\t\t  cp-0030.ckpt.index\n",
            "cp-0005.ckpt.data-00000-of-00001  cp-0035.ckpt.data-00000-of-00001\n",
            "cp-0005.ckpt.index\t\t  cp-0035.ckpt.index\n",
            "cp-0010.ckpt.data-00000-of-00001  cp-0040.ckpt.data-00000-of-00001\n",
            "cp-0010.ckpt.index\t\t  cp-0040.ckpt.index\n",
            "cp-0015.ckpt.data-00000-of-00001  cp-0045.ckpt.data-00000-of-00001\n",
            "cp-0015.ckpt.index\t\t  cp-0045.ckpt.index\n",
            "cp-0020.ckpt.data-00000-of-00001  cp-0050.ckpt.data-00000-of-00001\n",
            "cp-0020.ckpt.index\t\t  cp-0050.ckpt.index\n",
            "cp-0025.ckpt.data-00000-of-00001\n"
          ],
          "name": "stdout"
        }
      ]
    },
    {
      "cell_type": "code",
      "metadata": {
        "id": "T46RffW8WWW_",
        "colab_type": "code",
        "outputId": "411a9569-cf2f-45e5-a64e-43ffeaefdf26",
        "colab": {
          "base_uri": "https://localhost:8080/",
          "height": 34
        }
      },
      "source": [
        "latest = tf.train.latest_checkpoint(checkpoint_dir)\n",
        "latest"
      ],
      "execution_count": 0,
      "outputs": [
        {
          "output_type": "execute_result",
          "data": {
            "text/plain": [
              "'training_2/cp-0050.ckpt'"
            ]
          },
          "metadata": {
            "tags": []
          },
          "execution_count": 85
        }
      ]
    },
    {
      "cell_type": "code",
      "metadata": {
        "id": "lpOT6TOnWWZx",
        "colab_type": "code",
        "outputId": "578311bb-daf3-4bb8-f905-36c1fd546bff",
        "colab": {
          "base_uri": "https://localhost:8080/",
          "height": 51
        }
      },
      "source": [
        "# Create a new model instance\n",
        "model = create_model()\n",
        "\n",
        "# Load the previously saved weights\n",
        "model.load_weights(latest)\n",
        "\n",
        "# Re-evaluate the model\n",
        "loss, acc = model.evaluate(test_images,  test_labels, verbose=2)\n",
        "print(\"Restored model, accuracy: {:5.2f}%\".format(100*acc))"
      ],
      "execution_count": 0,
      "outputs": [
        {
          "output_type": "stream",
          "text": [
            "1000/1 - 0s - loss: 0.6146 - accuracy: 0.8750\n",
            "Restored model, accuracy: 87.50%\n"
          ],
          "name": "stdout"
        }
      ]
    },
    {
      "cell_type": "code",
      "metadata": {
        "id": "PqdV45MjWWdU",
        "colab_type": "code",
        "outputId": "2ee29fdb-60ae-4c97-f995-af02c69136b2",
        "colab": {
          "base_uri": "https://localhost:8080/",
          "height": 51
        }
      },
      "source": [
        "# Save the weights\n",
        "model.save_weights('./checkpoints/my_checkpoint')\n",
        "\n",
        "# Create a new model instance\n",
        "model = create_model()\n",
        "\n",
        "# Restore the weights\n",
        "model.load_weights('./checkpoints/my_checkpoint')\n",
        "\n",
        "# Evaluate the model\n",
        "loss,acc = model.evaluate(test_images,  test_labels, verbose=2)\n",
        "print(\"Restored model, accuracy: {:5.2f}%\".format(100*acc))"
      ],
      "execution_count": 0,
      "outputs": [
        {
          "output_type": "stream",
          "text": [
            "1000/1 - 0s - loss: 0.6146 - accuracy: 0.8750\n",
            "Restored model, accuracy: 87.50%\n"
          ],
          "name": "stdout"
        }
      ]
    },
    {
      "cell_type": "code",
      "metadata": {
        "id": "sDi9y1gYWWga",
        "colab_type": "code",
        "outputId": "21d1fb2f-ec2b-4d0e-a61f-419ed5fdca31",
        "colab": {
          "base_uri": "https://localhost:8080/",
          "height": 496
        }
      },
      "source": [
        "# Create and train a new model instance.\n",
        "model = create_model()\n",
        "model.fit(train_images, train_labels, epochs=5)\n",
        "\n",
        "# Save the entire model as a SavedModel.\n",
        "!mkdir -p saved_model\n",
        "model.save('saved_model/my_model') "
      ],
      "execution_count": 0,
      "outputs": [
        {
          "output_type": "stream",
          "text": [
            "Train on 1000 samples\n",
            "Epoch 1/5\n",
            "1000/1000 [==============================] - 0s 442us/sample - loss: 1.1514 - accuracy: 0.6640\n",
            "Epoch 2/5\n",
            "1000/1000 [==============================] - 0s 176us/sample - loss: 0.4407 - accuracy: 0.8740\n",
            "Epoch 3/5\n",
            "1000/1000 [==============================] - 0s 197us/sample - loss: 0.2953 - accuracy: 0.9110\n",
            "Epoch 4/5\n",
            "1000/1000 [==============================] - 0s 164us/sample - loss: 0.2070 - accuracy: 0.9560\n",
            "Epoch 5/5\n",
            "1000/1000 [==============================] - 0s 160us/sample - loss: 0.1444 - accuracy: 0.9680\n",
            "WARNING:tensorflow:Unresolved object in checkpoint: (root).optimizer.iter\n",
            "WARNING:tensorflow:Unresolved object in checkpoint: (root).optimizer.beta_1\n",
            "WARNING:tensorflow:Unresolved object in checkpoint: (root).optimizer.beta_2\n",
            "WARNING:tensorflow:Unresolved object in checkpoint: (root).optimizer.decay\n",
            "WARNING:tensorflow:Unresolved object in checkpoint: (root).optimizer.learning_rate\n",
            "WARNING:tensorflow:A checkpoint was restored (e.g. tf.train.Checkpoint.restore or tf.keras.Model.load_weights) but not all checkpointed values were used. See above for specific issues. Use expect_partial() on the load status object, e.g. tf.train.Checkpoint.restore(...).expect_partial(), to silence these warnings, or use assert_consumed() to make the check explicit. See https://www.tensorflow.org/alpha/guide/checkpoints#loading_mechanics for details.\n",
            "WARNING:tensorflow:Unresolved object in checkpoint: (root).optimizer.iter\n",
            "WARNING:tensorflow:Unresolved object in checkpoint: (root).optimizer.beta_1\n",
            "WARNING:tensorflow:Unresolved object in checkpoint: (root).optimizer.beta_2\n",
            "WARNING:tensorflow:Unresolved object in checkpoint: (root).optimizer.decay\n",
            "WARNING:tensorflow:Unresolved object in checkpoint: (root).optimizer.learning_rate\n",
            "WARNING:tensorflow:A checkpoint was restored (e.g. tf.train.Checkpoint.restore or tf.keras.Model.load_weights) but not all checkpointed values were used. See above for specific issues. Use expect_partial() on the load status object, e.g. tf.train.Checkpoint.restore(...).expect_partial(), to silence these warnings, or use assert_consumed() to make the check explicit. See https://www.tensorflow.org/alpha/guide/checkpoints#loading_mechanics for details.\n",
            "WARNING:tensorflow:From /usr/local/lib/python3.6/dist-packages/tensorflow_core/python/ops/resource_variable_ops.py:1781: calling BaseResourceVariable.__init__ (from tensorflow.python.ops.resource_variable_ops) with constraint is deprecated and will be removed in a future version.\n",
            "Instructions for updating:\n",
            "If using Keras pass *_constraint arguments to layers.\n",
            "INFO:tensorflow:Assets written to: saved_model/my_model/assets\n"
          ],
          "name": "stdout"
        }
      ]
    },
    {
      "cell_type": "code",
      "metadata": {
        "id": "sI14i2hlWWjT",
        "colab_type": "code",
        "outputId": "88fce727-8a50-488b-c7ab-fbc3c711e642",
        "colab": {
          "base_uri": "https://localhost:8080/",
          "height": 51
        }
      },
      "source": [
        "# my_model directory\n",
        "!ls saved_model\n",
        "\n",
        "# Contains an assets folder, saved_model.pb, and variables folder.\n",
        "!ls saved_model/my_model"
      ],
      "execution_count": 0,
      "outputs": [
        {
          "output_type": "stream",
          "text": [
            "my_model\n",
            "assets\tsaved_model.pb\tvariables\n"
          ],
          "name": "stdout"
        }
      ]
    },
    {
      "cell_type": "code",
      "metadata": {
        "id": "Q9DNooAoWv6e",
        "colab_type": "code",
        "outputId": "07a24b83-429b-4b3f-d661-8bf0d75178aa",
        "colab": {
          "base_uri": "https://localhost:8080/",
          "height": 255
        }
      },
      "source": [
        "new_model = tf.keras.models.load_model('saved_model/my_model')\n",
        "\n",
        "# Check its architecture\n",
        "new_model.summary()"
      ],
      "execution_count": 0,
      "outputs": [
        {
          "output_type": "stream",
          "text": [
            "Model: \"sequential_14\"\n",
            "_________________________________________________________________\n",
            "Layer (type)                 Output Shape              Param #   \n",
            "=================================================================\n",
            "dense_37 (Dense)             (None, 512)               401920    \n",
            "_________________________________________________________________\n",
            "dropout_7 (Dropout)          (None, 512)               0         \n",
            "_________________________________________________________________\n",
            "dense_38 (Dense)             (None, 10)                5130      \n",
            "=================================================================\n",
            "Total params: 407,050\n",
            "Trainable params: 407,050\n",
            "Non-trainable params: 0\n",
            "_________________________________________________________________\n"
          ],
          "name": "stdout"
        }
      ]
    },
    {
      "cell_type": "code",
      "metadata": {
        "id": "jFDgavmTWv-H",
        "colab_type": "code",
        "outputId": "21bd882f-39e1-4609-9746-79c400da6348",
        "colab": {
          "base_uri": "https://localhost:8080/",
          "height": 68
        }
      },
      "source": [
        "# Evaluate the restored model\n",
        "loss, acc = new_model.evaluate(test_images,  test_labels, verbose=2)\n",
        "print('Restored model, accuracy: {:5.2f}%'.format(100*acc))\n",
        "\n",
        "print(new_model.predict(test_images).shape)\n"
      ],
      "execution_count": 0,
      "outputs": [
        {
          "output_type": "stream",
          "text": [
            "1000/1 - 0s - loss: 0.3882 - accuracy: 0.8620\n",
            "Restored model, accuracy: 86.20%\n",
            "(1000, 10)\n"
          ],
          "name": "stdout"
        }
      ]
    },
    {
      "cell_type": "code",
      "metadata": {
        "id": "zc2j290YWwBV",
        "colab_type": "code",
        "outputId": "2fac3f47-d708-4b1b-9786-64e9f31f0d68",
        "colab": {
          "base_uri": "https://localhost:8080/",
          "height": 224
        }
      },
      "source": [
        "# Create and train a new model instance.\n",
        "model = create_model()\n",
        "model.fit(train_images, train_labels, epochs=5)\n",
        "\n",
        "# Save the entire model to a HDF5 file.\n",
        "# The '.h5' extension indicates that the model should be saved to HDF5.\n",
        "model.save('my_model.h5') "
      ],
      "execution_count": 0,
      "outputs": [
        {
          "output_type": "stream",
          "text": [
            "Train on 1000 samples\n",
            "Epoch 1/5\n",
            "1000/1000 [==============================] - 0s 447us/sample - loss: 1.2015 - accuracy: 0.6570\n",
            "Epoch 2/5\n",
            "1000/1000 [==============================] - 0s 163us/sample - loss: 0.4334 - accuracy: 0.8830\n",
            "Epoch 3/5\n",
            "1000/1000 [==============================] - 0s 164us/sample - loss: 0.2903 - accuracy: 0.9290\n",
            "Epoch 4/5\n",
            "1000/1000 [==============================] - 0s 167us/sample - loss: 0.2124 - accuracy: 0.9490\n",
            "Epoch 5/5\n",
            "1000/1000 [==============================] - 0s 161us/sample - loss: 0.1641 - accuracy: 0.9630\n"
          ],
          "name": "stdout"
        }
      ]
    },
    {
      "cell_type": "code",
      "metadata": {
        "id": "73OF4prJWwEY",
        "colab_type": "code",
        "outputId": "d16c0ed2-8dae-47a6-ab29-dac7af0ea45b",
        "colab": {
          "base_uri": "https://localhost:8080/",
          "height": 255
        }
      },
      "source": [
        "# Recreate the exact same model, including its weights and the optimizer\n",
        "new_model = tf.keras.models.load_model('my_model.h5')\n",
        "\n",
        "# Show the model architecture\n",
        "new_model.summary()"
      ],
      "execution_count": 0,
      "outputs": [
        {
          "output_type": "stream",
          "text": [
            "Model: \"sequential_15\"\n",
            "_________________________________________________________________\n",
            "Layer (type)                 Output Shape              Param #   \n",
            "=================================================================\n",
            "dense_39 (Dense)             (None, 512)               401920    \n",
            "_________________________________________________________________\n",
            "dropout_8 (Dropout)          (None, 512)               0         \n",
            "_________________________________________________________________\n",
            "dense_40 (Dense)             (None, 10)                5130      \n",
            "=================================================================\n",
            "Total params: 407,050\n",
            "Trainable params: 407,050\n",
            "Non-trainable params: 0\n",
            "_________________________________________________________________\n"
          ],
          "name": "stdout"
        }
      ]
    },
    {
      "cell_type": "code",
      "metadata": {
        "id": "oUgSWp7mWwHa",
        "colab_type": "code",
        "outputId": "7bd0f457-d03d-4f8b-8faa-c9769d90d7c9",
        "colab": {
          "base_uri": "https://localhost:8080/",
          "height": 51
        }
      },
      "source": [
        "loss, acc = new_model.evaluate(test_images,  test_labels, verbose=2)\n",
        "print('Restored model, accuracy: {:5.2f}%'.format(100*acc))"
      ],
      "execution_count": 0,
      "outputs": [
        {
          "output_type": "stream",
          "text": [
            "1000/1 - 0s - loss: 0.5432 - accuracy: 0.8640\n",
            "Restored model, accuracy: 86.40%\n"
          ],
          "name": "stdout"
        }
      ]
    }
  ]
}